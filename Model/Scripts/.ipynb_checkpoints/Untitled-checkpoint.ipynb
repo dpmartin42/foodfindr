{
 "cells": [
  {
   "cell_type": "code",
   "execution_count": 10,
   "metadata": {
    "collapsed": false
   },
   "outputs": [],
   "source": [
    "from bs4 import BeautifulSoup\n",
    "import urllib2\n",
    "import re\n",
    "import math\n",
    "import pandas as pd\n",
    "import numpy as np\n",
    "import MySQLdb\n",
    "from nltk.corpus import stopwords\n",
    "from sklearn.feature_extraction.text import CountVectorizer\n",
    "\n",
    "def get_restaurant_info(html_page, base_url):\n",
    "\n",
    "    # Function to extract restaurant information, such as the name, address, longitude, latitude, and price\n",
    "    # The input is a single string that represents the first page to be scraped off of menupages\n",
    "    # The output is a pandas dataframe that contains the data\n",
    "\n",
    "    request = urllib2.Request(html_page + str(1))\n",
    "    request.add_header('User-agent', 'Mozilla/5.0 (Linux i686)')\n",
    "\n",
    "    response = urllib2.urlopen(request)\n",
    "\n",
    "    soup = BeautifulSoup(response.read())\n",
    "\n",
    "    num_restaurants = int(soup.find('strong').text)\n",
    "    num_pages = int(math.ceil(num_restaurants/100.0))\n",
    "\n",
    "    base_url = base_url\n",
    "\n",
    "    total_names = []\n",
    "    total_links = []\n",
    "    total_prices = []\n",
    "    total_addresses = []\n",
    "    total_longitude = []\n",
    "    total_latitude = []\n",
    "\n",
    "    for num_page in range(num_pages):\n",
    "    \n",
    "        page_request = urllib2.Request(html_page + str(num_page + 1))\n",
    "        page_request.add_header('User-agent', 'Mozilla/5.0 (Linux i686)')\n",
    "\n",
    "        page_response = urllib2.urlopen(page_request).read()\n",
    "        \n",
    "        page_soup = BeautifulSoup(page_response)\n",
    "\n",
    "        places = page_soup.find_all(class_ = 'link')\n",
    "\n",
    "        for the_place in places:\n",
    "            total_names.append(re.sub('.*</span>|</a>', '', str(the_place)))\n",
    "            total_links.append(the_place.get('href'))\n",
    "    \n",
    "        raw_prices = page_soup.findAll(True, {'class':['price1', 'price2', 'price3', 'price4', 'price5']})\n",
    "\n",
    "        for the_price in raw_prices:\n",
    "            total_prices.append(the_price.text)\n",
    "    \n",
    "        longitude = re.findall(\"data\\[[0-9]+\\]\\[\\'longitude\\'\\] = \\\"(.*)\\\";\", str(page_soup))\n",
    "        longitude = [float(i) for i in longitude]\n",
    "\n",
    "        latitude = re.findall(\"data\\[[0-9]+\\]\\[\\'latitude\\'\\] = \\\"(.*)\\\";\", str(page_soup))\n",
    "        latitude = [float(i) for i in latitude]\n",
    "\n",
    "        address = re.findall(\"data\\[[0-9]+\\]\\[\\'address1\\'\\] = \\\"(.*)\\\";\", str(page_soup))\n",
    "\n",
    "        for index in range(len(places)):\n",
    "            total_longitude.append(longitude[index])\n",
    "            total_latitude.append(latitude[index])\n",
    "            total_addresses.append(address[index])\n",
    "       \n",
    "        print num_page\n",
    "        \n",
    "    df = pd.DataFrame({ 'name' : total_names,\n",
    "                        'link' : total_links,\n",
    "                        'price': total_prices,\n",
    "                        'address' : total_addresses,\n",
    "                        'longitude' : total_longitude,\n",
    "                        'latitude' : total_latitude})\n",
    "        \n",
    "    return(df)"
   ]
  },
  {
   "cell_type": "code",
   "execution_count": 11,
   "metadata": {
    "collapsed": false
   },
   "outputs": [
    {
     "name": "stdout",
     "output_type": "stream",
     "text": [
      "0\n",
      "1\n",
      "2\n",
      "3\n",
      "4\n",
      "5\n",
      "6\n",
      "7\n",
      "8\n",
      "9\n",
      "10\n",
      "11\n",
      "12\n",
      "13\n",
      "14\n",
      "15\n",
      "16\n",
      "17\n",
      "18\n",
      "19\n",
      "20\n",
      "21\n"
     ]
    }
   ],
   "source": [
    "base_url = 'http://boston.menupages.com'\n",
    "restaurant_data = get_restaurant_info(\"http://boston.menupages.com/restaurants/all-areas/all-neighborhoods/all-cuisines/\", base_url)"
   ]
  },
  {
   "cell_type": "code",
   "execution_count": 12,
   "metadata": {
    "collapsed": false
   },
   "outputs": [
    {
     "name": "stdout",
     "output_type": "stream",
     "text": [
      "                     address   latitude  \\\n",
      "0           182 Brighton Ave  42.353124   \n",
      "1                56 Beach St  42.351492   \n",
      "2      757 Massachusetts Ave  42.366397   \n",
      "3          1369 Cambridge St  42.373697   \n",
      "4             1309 Beacon St  42.342122   \n",
      "5            66 Harrison Ave  42.351303   \n",
      "6             150 Bowdoin St  42.358537   \n",
      "7              29 Newbury St  42.352369   \n",
      "8                  89 2nd St  42.368428   \n",
      "9               40 Dalton St  42.345997   \n",
      "10              49 Temple Pl  42.355018   \n",
      "11            419 Harvard St  42.345496   \n",
      "12        105 Huntington Ave  42.346431   \n",
      "13            75 Chestnut St  42.356970   \n",
      "14          220 Northern Ave  42.349137   \n",
      "15                 50 JFK St  42.372096   \n",
      "16           174 Harvard Ave  42.351183   \n",
      "17          433 Cambridge St  42.354754   \n",
      "18          187 Hampshire St  42.372858   \n",
      "19        2350 Washington St  42.329436   \n",
      "20        445 Somerville Ave  42.382193   \n",
      "21           Location Varies  42.357969   \n",
      "22            1657 Beacon St  42.338806   \n",
      "23         358 Washington St  42.349026   \n",
      "24            255 Tremont St  42.350268   \n",
      "25     744 Massachusetts Ave  42.366351   \n",
      "26           793 Boylston St  42.348934   \n",
      "27                291 3rd St  42.365464   \n",
      "28             464 Centre St  42.319278   \n",
      "29          605 W Kendall St  42.364252   \n",
      "...                      ...        ...   \n",
      "2128       126 Brookline Ave  42.345983   \n",
      "2129          1366 Beacon St  42.341597   \n",
      "2130  1326 Massachusetts Ave  42.373030   \n",
      "2131        112 Brighton Ave  42.352835   \n",
      "2132          273 Harvard St  42.342520   \n",
      "2133       238 Washington St  42.332702   \n",
      "2134           5 N Beacon St  42.353621   \n",
      "2135          300A Centre St  42.322752   \n",
      "2136          665 Tremont St  42.341680   \n",
      "2137  1925 Massachusetts Ave  42.389421   \n",
      "2138  2261 Massachusetts Ave  42.394453   \n",
      "2139              350 3rd St  42.363949   \n",
      "2140          335 Harvard St  42.343530   \n",
      "2141   801 Massachusetts Ave  42.333153   \n",
      "2142           21A Beacon St  42.358023   \n",
      "2143       320 Washington St  42.333430   \n",
      "2144         575 Memorial Dr  42.353590   \n",
      "2145           460 Centre St  42.319395   \n",
      "2146              1 Broadway  42.362097   \n",
      "2147    508 Commonwealth Ave  42.348799   \n",
      "2148  1154 Massachusetts Ave  42.371286   \n",
      "2149          140 Tremont St  42.355666   \n",
      "2150             92 State St  42.359016   \n",
      "2151          3 Center Plaza  42.359232   \n",
      "2152          35 Stanhope St  42.348423   \n",
      "2153           296 Beacon St  42.383629   \n",
      "2154  1105 Massachusetts Ave  42.370527   \n",
      "2155     7 N Market Building  42.360257   \n",
      "2156             223 Main St  42.376492   \n",
      "2157   474 Massachusetts Ave  42.363997   \n",
      "\n",
      "                                         link  longitude  \\\n",
      "0               /restaurants/o-yummy-cuisine/ -71.133689   \n",
      "1                    /restaurants/101-bakery/ -71.060516   \n",
      "2           /restaurants/1369-coffee-house-2/ -71.105596   \n",
      "3             /restaurants/1369-coffee-house/ -71.100696   \n",
      "4                    /restaurants/16-handles/ -71.120375   \n",
      "5     /restaurants/163-vietnamese-sandwiches/ -71.061458   \n",
      "6                /restaurants/21st-amendment/ -71.062920   \n",
      "7                    /restaurants/29-newbury/ -71.072099   \n",
      "8                   /restaurants/2nd-st-cafe/ -71.079419   \n",
      "9                     /restaurants/40-dalton/ -71.084595   \n",
      "10                    /restaurants/49-social/ -71.061701   \n",
      "11      /restaurants/4a-coffee-of-kazakhstan/ -71.127007   \n",
      "12              /restaurants/5-napkin-burger/ -71.080528   \n",
      "13                  /restaurants/75-chestnut/ -71.070394   \n",
      "14          /restaurants/75-on-liberty-wharf/ -71.039529   \n",
      "15                     /restaurants/9-tastes/ -71.120597   \n",
      "16                       /restaurants/@union/ -71.131754   \n",
      "17                     /restaurants/a-@-time/ -71.134818   \n",
      "18                /restaurants/a-pizza-grill/ -71.099190   \n",
      "19           /restaurants/a1-pizza-and-grill/ -71.084690   \n",
      "20                     /restaurants/a4-pizza/ -71.102602   \n",
      "21                     /restaurants/a4-truck/ -71.051339   \n",
      "22                        /restaurants/abbey/ -71.137042   \n",
      "23       /restaurants/abbotts-frozen-custard/ -71.153241   \n",
      "24                    /restaurants/abby-lane/ -71.065179   \n",
      "25              /restaurants/abc-pizza-house/ -71.105515   \n",
      "26        /restaurants/abe-louies-steakhouse/ -71.081860   \n",
      "27                     /restaurants/abigails/ -71.082763   \n",
      "28                     /restaurants/acapulco/ -71.111727   \n",
      "29                /restaurants/aceituna-cafe/ -71.081731   \n",
      "...                                       ...        ...   \n",
      "2128                 /restaurants/yard-house/ -71.099768   \n",
      "2129                       /restaurants/yasu/ -71.123096   \n",
      "2130                   /restaurants/yenching/ -71.117681   \n",
      "2131                    /restaurants/yi-soon/ -71.130723   \n",
      "2132                 /restaurants/yogurtland/ -71.121503   \n",
      "2133                   /restaurants/yokohama/ -71.118387   \n",
      "2134                       /restaurants/yoma/ -71.137885   \n",
      "2135                 /restaurants/young-kong/ -71.103073   \n",
      "2136             /restaurants/yum-mee-garden/ -71.075909   \n",
      "2137             /restaurants/yume-wo-katare/ -71.119658   \n",
      "2138         /restaurants/yummy-thai-cuisine/ -71.126583   \n",
      "2139                         /restaurants/za/ -71.083664   \n",
      "2140       /restaurants/zaftigs-delicatessen/ -71.124116   \n",
      "2141                       /restaurants/roka/ -71.073156   \n",
      "2142                        /restaurants/zen/ -71.062538   \n",
      "2143                    /restaurants/zen-320/ -71.120296   \n",
      "2144      /restaurants/zephyr-on-the-charles/ -71.105056   \n",
      "2145    /restaurants/zestos-pizza-and-grille/ -71.111601   \n",
      "2146                       /restaurants/zigo/ -71.082896   \n",
      "2147                      /restaurants/zinga/ -71.095492   \n",
      "2148                  /restaurants/zinnekens/ -71.114492   \n",
      "2149      /restaurants/zitis-italian-express/ -71.062578   \n",
      "2150                       /restaurants/zo-2/ -71.055731   \n",
      "2151                         /restaurants/zo/ -71.060036   \n",
      "2152     /restaurants/zocalo-cocina-mexicana/ -71.073200   \n",
      "2153                       /restaurants/zoes/ -71.113114   \n",
      "2154               /restaurants/zoes-kitchen/ -71.113778   \n",
      "2155                       /restaurants/zuma/ -71.055779   \n",
      "2156               /restaurants/zumes-coffee/ -71.065773   \n",
      "2157                       /restaurants/zuzu/ -71.101396   \n",
      "\n",
      "                               name  price  \n",
      "0                 'O' Yummy Cuisine     $$  \n",
      "1                        101 Bakery      $  \n",
      "2                 1369 Coffee House      $  \n",
      "3                 1369 Coffee House      $  \n",
      "4                        16 Handles      $  \n",
      "5         163 Vietnamese Sandwiches      $  \n",
      "6                    21st Amendment     $$  \n",
      "7                        29 Newbury  $$$$$  \n",
      "8      2nd St Cafe (Second St Cafe)      $  \n",
      "9          40 Dalton (Forty Dalton)  $$$$$  \n",
      "10                        49 Social   $$$$  \n",
      "11          4A Coffee of Kazakhstan      $  \n",
      "12                  5 Napkin Burger    $$$  \n",
      "13                      75 Chestnut     $$  \n",
      "14              75 on Liberty Wharf     $$  \n",
      "15           9 Tastes (Nine Tastes)     $$  \n",
      "16                @Union (At Union)     $$  \n",
      "17                         A @ Time    $$$  \n",
      "18             A+ Pizza &amp; Grill      $  \n",
      "19               A1 Pizza and Grill     $$  \n",
      "20                         A4 Pizza    $$$  \n",
      "21                         A4 Truck     $$  \n",
      "22                            Abbey   $$$$  \n",
      "23          Abbott's Frozen Custard      $  \n",
      "24                        Abby Lane   $$$$  \n",
      "25                  ABC Pizza House      $  \n",
      "26     Abe &amp; Louie's Steakhouse  $$$$$  \n",
      "27                        Abigail's   $$$$  \n",
      "28                         Acapulco    $$$  \n",
      "29                    Aceituna Cafe     $$  \n",
      "...                             ...    ...  \n",
      "2128                     Yard House    $$$  \n",
      "2129                           Yasu    $$$  \n",
      "2130                       Yenching     $$  \n",
      "2131                        Yi Soon      $  \n",
      "2132                     Yogurtland      $  \n",
      "2133                       Yokohama     $$  \n",
      "2134                           YoMa     $$  \n",
      "2135                     Young Kong      $  \n",
      "2136                 Yum Mee Garden      $  \n",
      "2137                 Yume Wo Katare    $$$  \n",
      "2138             Yummy Thai Cuisine    $$$  \n",
      "2139                             Za     $$  \n",
      "2140           Zaftigs Delicatessen    $$$  \n",
      "2141                      ZC Boston     $$  \n",
      "2142                            Zen   $$$$  \n",
      "2143                        Zen 320     $$  \n",
      "2144          Zephyr on the Charles  $$$$$  \n",
      "2145       Zesto's Pizza and Grille     $$  \n",
      "2146                           Zigo      $  \n",
      "2147                          Zinga      $  \n",
      "2148                     Zinneken's     $$  \n",
      "2149         Ziti's Italian Express      $  \n",
      "2150                             Zo      $  \n",
      "2151                             Zo      $  \n",
      "2152                         Zocalo   $$$$  \n",
      "2153  Zoe's Gourmet Chinese Cuisine     $$  \n",
      "2154                  Zoe's Kitchen     $$  \n",
      "2155                           Zuma    $$$  \n",
      "2156                  Zume's Coffee      $  \n",
      "2157                           Zuzu   $$$$  \n",
      "\n",
      "[2158 rows x 6 columns]\n"
     ]
    }
   ],
   "source": [
    "print restaurant_data"
   ]
  },
  {
   "cell_type": "code",
   "execution_count": 18,
   "metadata": {
    "collapsed": false
   },
   "outputs": [],
   "source": [
    "def get_menu_tags(html_menu, base_url):\n",
    "\n",
    "    # Function to convert extract tag information from a menupages link\n",
    "    # The input is a single string (html menu pages)\n",
    "    # The output is a single string of tags (to be cleaned in R)\n",
    "    # Tag function added after, incorporate with menu_to_words to make it quicker\n",
    "    \n",
    "    menu_request = urllib2.Request(base_url + html_menu + 'menu')\n",
    "    menu_request.add_header('User-agent', 'Mozilla/5.0 (Linux i686)')\n",
    "    menu_response = urllib2.urlopen(menu_request).read()\n",
    "    menu_soup = BeautifulSoup(menu_response)\n",
    "    tags = re.findall(\"setTargeting\\('cuisine'.*\", str(menu_soup))\n",
    "    features = re.findall(\"Gluten Free Items\", str(menu_soup))\n",
    "    \n",
    "    return([tags, features])"
   ]
  },
  {
   "cell_type": "code",
   "execution_count": 19,
   "metadata": {
    "collapsed": false
   },
   "outputs": [
    {
     "name": "stdout",
     "output_type": "stream",
     "text": [
      "0\n",
      "1\n",
      "2\n",
      "3\n",
      "4\n"
     ]
    }
   ],
   "source": [
    "tags_and_features = []\n",
    "\n",
    "for i in range(200):#len(restaurant_data['link'])):\n",
    "    tags_and_features.append(get_menu_tags(restaurant_data['link'][i], base_url)) \n",
    "    print i\n",
    "\n",
    "\n"
   ]
  },
  {
   "cell_type": "code",
   "execution_count": 20,
   "metadata": {
    "collapsed": false
   },
   "outputs": [
    {
     "name": "stdout",
     "output_type": "stream",
     "text": [
      "[[[\"setTargeting('cuisine', ['chinese', 'japanese', 'sushi']);\\r\"], []], [[\"setTargeting('cuisine', ['bakeries', 'desserts']);\\r\"], []], [[\"setTargeting('cuisine', ['cafes-coffeehouses']);\\r\"], []], [[\"setTargeting('cuisine', ['cafes-coffeehouses']);\\r\"], []], [[\"setTargeting('cuisine', ['desserts', 'kosher']);\\r\"], []]]\n"
     ]
    }
   ],
   "source": [
    "print tags_and_features"
   ]
  },
  {
   "cell_type": "code",
   "execution_count": 22,
   "metadata": {
    "collapsed": false
   },
   "outputs": [
    {
     "name": "stdout",
     "output_type": "stream",
     "text": [
      "[[\"setTargeting('cuisine', ['chinese', 'japanese', 'sushi']);\\r\"], [\"setTargeting('cuisine', ['bakeries', 'desserts']);\\r\"], [\"setTargeting('cuisine', ['cafes-coffeehouses']);\\r\"], [\"setTargeting('cuisine', ['cafes-coffeehouses']);\\r\"], [\"setTargeting('cuisine', ['desserts', 'kosher']);\\r\"]]\n"
     ]
    }
   ],
   "source": [
    "restaurant_tags = [item[0] for item in tags_and_features]\n",
    "print restaurant_tags"
   ]
  },
  {
   "cell_type": "code",
   "execution_count": 24,
   "metadata": {
    "collapsed": false
   },
   "outputs": [
    {
     "name": "stdout",
     "output_type": "stream",
     "text": [
      "[[], [], [], [], []]\n"
     ]
    }
   ],
   "source": [
    "restaurant_features = [item[1] for item in tags_and_features]\n",
    "print restaurant_features"
   ]
  },
  {
   "cell_type": "code",
   "execution_count": 25,
   "metadata": {
    "collapsed": true
   },
   "outputs": [],
   "source": [
    "clean_features = [1 if 'Gluten Free Items' in x else 0 for x in restaurant_features]"
   ]
  },
  {
   "cell_type": "code",
   "execution_count": 26,
   "metadata": {
    "collapsed": false
   },
   "outputs": [
    {
     "name": "stdout",
     "output_type": "stream",
     "text": [
      "[0, 0, 0, 0, 0]\n"
     ]
    }
   ],
   "source": [
    "print clean_features"
   ]
  },
  {
   "cell_type": "code",
   "execution_count": null,
   "metadata": {
    "collapsed": true
   },
   "outputs": [],
   "source": []
  }
 ],
 "metadata": {
  "kernelspec": {
   "display_name": "Python 2",
   "language": "python",
   "name": "python2"
  },
  "language_info": {
   "codemirror_mode": {
    "name": "ipython",
    "version": 2
   },
   "file_extension": ".py",
   "mimetype": "text/x-python",
   "name": "python",
   "nbconvert_exporter": "python",
   "pygments_lexer": "ipython2",
   "version": "2.7.9"
  }
 },
 "nbformat": 4,
 "nbformat_minor": 0
}
