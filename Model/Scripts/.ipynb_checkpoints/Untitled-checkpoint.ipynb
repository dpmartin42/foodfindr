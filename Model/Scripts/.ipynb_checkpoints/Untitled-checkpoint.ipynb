{
 "cells": [
  {
   "cell_type": "code",
   "execution_count": 1,
   "metadata": {
    "collapsed": true
   },
   "outputs": [],
   "source": [
    "from bs4 import BeautifulSoup\n",
    "import urllib2\n"
   ]
  },
  {
   "cell_type": "code",
   "execution_count": 183,
   "metadata": {
    "collapsed": true
   },
   "outputs": [],
   "source": [
    "request = urllib2.Request('http://boston.menupages.com/restaurants/downtown-north-end/all-neighborhoods/all-cuisines/')\n",
    "request.add_header('User-agent', 'Mozilla/5.0 (Linux i686)')\n",
    "\n",
    "response = urllib2.urlopen(request).read()"
   ]
  },
  {
   "cell_type": "code",
   "execution_count": 184,
   "metadata": {
    "collapsed": true
   },
   "outputs": [],
   "source": [
    "soup = BeautifulSoup(response)"
   ]
  },
  {
   "cell_type": "code",
   "execution_count": 204,
   "metadata": {
    "collapsed": false
   },
   "outputs": [
    {
     "ename": "AttributeError",
     "evalue": "'NoneType' object has no attribute 'group'",
     "output_type": "error",
     "traceback": [
      "\u001b[0;31m---------------------------------------------------------------------------\u001b[0m",
      "\u001b[0;31mAttributeError\u001b[0m                            Traceback (most recent call last)",
      "\u001b[0;32m<ipython-input-204-73b5b14d43eb>\u001b[0m in \u001b[0;36m<module>\u001b[0;34m()\u001b[0m\n\u001b[1;32m     19\u001b[0m \u001b[0mm\u001b[0m \u001b[0;34m=\u001b[0m \u001b[0mre\u001b[0m\u001b[0;34m.\u001b[0m\u001b[0msearch\u001b[0m\u001b[0;34m(\u001b[0m\u001b[0;34m\"data[[0-9]+]['longitude']\"\u001b[0m\u001b[0;34m,\u001b[0m \u001b[0mstr\u001b[0m\u001b[0;34m(\u001b[0m\u001b[0msoup\u001b[0m\u001b[0;34m)\u001b[0m\u001b[0;34m)\u001b[0m\u001b[0;34m\u001b[0m\u001b[0m\n\u001b[1;32m     20\u001b[0m \u001b[0;34m\u001b[0m\u001b[0m\n\u001b[0;32m---> 21\u001b[0;31m \u001b[0mm\u001b[0m\u001b[0;34m.\u001b[0m\u001b[0mgroup\u001b[0m\u001b[0;34m(\u001b[0m\u001b[0;34m)\u001b[0m\u001b[0;34m\u001b[0m\u001b[0m\n\u001b[0m\u001b[1;32m     22\u001b[0m \u001b[0;34m\u001b[0m\u001b[0m\n\u001b[1;32m     23\u001b[0m \u001b[0;31m# Need to get address, longitude, and latitude from this thing\u001b[0m\u001b[0;34m\u001b[0m\u001b[0;34m\u001b[0m\u001b[0m\n",
      "\u001b[0;31mAttributeError\u001b[0m: 'NoneType' object has no attribute 'group'"
     ]
    }
   ],
   "source": [
    "places = soup.find_all(class_ = 'link')\n",
    "\n",
    "names = []\n",
    "links = []\n",
    "\n",
    "base_url = 'http://boston.menupages.com'\n",
    "\n",
    "for the_place in places:\n",
    "    names.append(re.sub('.*</span>|</a>', '', str(the_place)))\n",
    "    links.append(base_url + the_place.get('href') + 'menu') \n",
    "\n",
    "raw_prices = soup.findAll(True, {'class':['price1', 'price2', 'price3', 'price4', 'price5']})\n",
    "\n",
    "prices = []\n",
    "\n",
    "for the_price in raw_prices:\n",
    "    prices.append(the_price.text)\n",
    "    \n",
    "m = re.search(\"\", str(soup))\n",
    "\n",
    "m.group()\n",
    "    \n",
    "# Need to get address, longitude, and latitude from this thing\n",
    "# Then move on to scraping websites to get word counts of menus\n"
   ]
  },
  {
   "cell_type": "code",
   "execution_count": 140,
   "metadata": {
    "collapsed": false,
    "scrolled": true
   },
   "outputs": [
    {
     "name": "stdout",
     "output_type": "stream",
     "text": [
      "<!DOCTYPE html PUBLIC \"-//W3C//DTD XHTML 1.0 Transitional//EN\" \"http://www.w3.org/TR/xhtml1/DTD/xhtml1-transitional.dtd\">\n",
      "<html xmlns=\"http://www.w3.org/1999/xhtml\">\n",
      " <head>\n",
      "  <script type=\"text/javascript\">\n",
      "   var NREUMQ=NREUMQ||[];NREUMQ.push([\"mark\",\"firstbyte\",new Date().getTime()]);\n",
      "  </script>\n",
      "  <!-- MOBIFY - DO NOT ALTER - PASTE IMMEDIATELY AFTER OPENING HEAD TAG -->\n",
      "  <script type=\"text/javascript\">\n",
      "   /*<![CDATA[*/(function(a){function b(a,b){if(+a)return~a||(d.cookie=h+\"=; path=/\");j=d.createElement(e),k=d.getElementsByTagName(e)[0],j.src=a,b&&(j.onload=j.onerror=b),k.parentNode.insertBefore(j,k)}function c(){n.api||b(l.shift()||-1,c)}if(this.Mobify)return;var d=document,e=\"script\",f=\"mobify\",g=\".\"+f+\".com/\",h=f+\"-path\",i=g+\"un\"+f+\".js\",j,k,l=[!1,1],m,n=this.Mobify={points:[+(new Date)],tagVersion:[6,1],ajs:\"//a.mobify.com/menu-pages/a.js\"},o=/((; )|#|&|^)mobify-path=([^&;]*)/g.exec(location.hash+\"; \"+d.cookie);o?(m=o[3])&&!+(m=o[2]&&sessionStorage[h]||m)&&(l=[!0,\"//preview\"+\n"
     ]
    }
   ],
   "source": [
    "print soup.prettify()[0:1000]"
   ]
  },
  {
   "cell_type": "code",
   "execution_count": 6,
   "metadata": {
    "collapsed": true
   },
   "outputs": [],
   "source": [
    "places = soup.find_all(\"div\", class_ = \"id\")"
   ]
  },
  {
   "cell_type": "code",
   "execution_count": 7,
   "metadata": {
    "collapsed": false
   },
   "outputs": [
    {
     "ename": "IndexError",
     "evalue": "list index out of range",
     "output_type": "error",
     "traceback": [
      "\u001b[0;31m---------------------------------------------------------------------------\u001b[0m",
      "\u001b[0;31mIndexError\u001b[0m                                Traceback (most recent call last)",
      "\u001b[0;32m<ipython-input-7-8ffdbb400b4c>\u001b[0m in \u001b[0;36m<module>\u001b[0;34m()\u001b[0m\n\u001b[0;32m----> 1\u001b[0;31m \u001b[0mplaces\u001b[0m\u001b[0;34m[\u001b[0m\u001b[0;36m0\u001b[0m\u001b[0;34m]\u001b[0m\u001b[0;34m\u001b[0m\u001b[0m\n\u001b[0m",
      "\u001b[0;31mIndexError\u001b[0m: list index out of range"
     ]
    }
   ],
   "source": [
    "places[0]"
   ]
  },
  {
   "cell_type": "code",
   "execution_count": 8,
   "metadata": {
    "collapsed": false
   },
   "outputs": [
    {
     "data": {
      "text/plain": [
       "[]"
      ]
     },
     "execution_count": 8,
     "metadata": {},
     "output_type": "execute_result"
    }
   ],
   "source": [
    "places"
   ]
  },
  {
   "cell_type": "code",
   "execution_count": 9,
   "metadata": {
    "collapsed": true
   },
   "outputs": [],
   "source": [
    "places = soup.find_all(class_ = \"link\")"
   ]
  },
  {
   "cell_type": "code",
   "execution_count": 10,
   "metadata": {
    "collapsed": false
   },
   "outputs": [
    {
     "data": {
      "text/plain": [
       "[<a class=\"link\" href=\"/restaurants/101-bakery/\"><span class=\"map-count\">1</span>101 Bakery</a>,\n",
       " <a class=\"link\" href=\"/restaurants/163-vietnamese-sandwiches/\"><span class=\"map-count\">2</span>163 Vietnamese Sandwiches</a>,\n",
       " <a class=\"link\" href=\"/restaurants/49-social/\"><span class=\"map-count\">3</span>49 Social</a>,\n",
       " <a class=\"link\" href=\"/restaurants/75-on-liberty-wharf/\"><span class=\"map-count\">4</span>75 on Liberty Wharf</a>,\n",
       " <a class=\"link\" href=\"/restaurants/a4-truck/\"><span class=\"map-count\">5</span>A4 Truck</a>,\n",
       " <a class=\"link\" href=\"/restaurants/abby-lane/\"><span class=\"map-count\">6</span>Abby Lane</a>,\n",
       " <a class=\"link\" href=\"/restaurants/al-capone/\"><span class=\"map-count\">7</span>Al Capone</a>,\n",
       " <a class=\"link\" href=\"/restaurants/al-dente-ristorante/\"><span class=\"map-count\">8</span>Al Dente Ristorante</a>,\n",
       " <a class=\"link\" href=\"/restaurants/als-south-street-cafe/\"><span class=\"map-count\">9</span>Al's South Street Cafe</a>,\n",
       " <a class=\"link\" href=\"/restaurants/als-state-street-cafe/\"><span class=\"map-count\">10</span>Al's State Street Cafe</a>,\n",
       " <a class=\"link\" href=\"/restaurants/alibi/\"><span class=\"map-count\">11</span>Alibi</a>,\n",
       " <a class=\"link\" href=\"/restaurants/american-bakers-cafe/\"><span class=\"map-count\">12</span>American Bakers' Cafe</a>,\n",
       " <a class=\"link\" href=\"/restaurants/ames-plow-tavern/\"><span class=\"map-count\">13</span>Ames Plow Tavern</a>,\n",
       " <a class=\"link\" href=\"/restaurants/amici/\"><span class=\"map-count\">14</span>Amici</a>,\n",
       " <a class=\"link\" href=\"/restaurants/an-tain/\"><span class=\"map-count\">15</span>An Tain</a>,\n",
       " <a class=\"link\" href=\"/restaurants/angelas-cafe/\"><span class=\"map-count\">16</span>Angela's Cafe</a>,\n",
       " <a class=\"link\" href=\"/restaurants/annas-taqueria-5/\"><span class=\"map-count\">17</span>Anna's Taqueria</a>,\n",
       " <a class=\"link\" href=\"/restaurants/anthem/\"><span class=\"map-count\">18</span>Anthem</a>,\n",
       " <a class=\"link\" href=\"/restaurants/anthonys-cafe/\"><span class=\"map-count\">19</span>Anthony's Cafe</a>,\n",
       " <a class=\"link\" href=\"/restaurants/antico-forno/\"><span class=\"map-count\">20</span>Antico Forno</a>,\n",
       " <a class=\"link\" href=\"/restaurants/antonios/\"><span class=\"map-count\">21</span>Antonio's</a>,\n",
       " <a class=\"link\" href=\"/restaurants/aragosta-bar-bistro/\"><span class=\"map-count\">22</span>Aragosta Bar + Bistro</a>,\n",
       " <a class=\"link\" href=\"/restaurants/archies-new-york-deli/\"><span class=\"map-count\">23</span>Archie's New York Deli</a>,\n",
       " <a class=\"link\" href=\"/restaurants/archies-place/\"><span class=\"map-count\">24</span>Archie's Place</a>,\n",
       " <a class=\"link\" href=\"/restaurants/aria-trattoria/\"><span class=\"map-count\">25</span>Aria Trattoria</a>,\n",
       " <a class=\"link\" href=\"/restaurants/artisan-bistro/\"><span class=\"map-count\">26</span>Artisan Bistro</a>,\n",
       " <a class=\"link\" href=\"/restaurants/artu-2/\"><span class=\"map-count\">27</span>Artu</a>,\n",
       " <a class=\"link\" href=\"/restaurants/asian-garden-restaurant/\"><span class=\"map-count\">28</span>Asian Garden Restaurant</a>,\n",
       " <a class=\"link\" href=\"/restaurants/asian-house/\"><span class=\"map-count\">29</span>Asian House</a>,\n",
       " <a class=\"link\" href=\"/restaurants/assaggio/\"><span class=\"map-count\">30</span>Assaggio</a>,\n",
       " <a class=\"link\" href=\"/restaurants/atlantic-beer-garden/\"><span class=\"map-count\">31</span>Atlantic Beer Garden</a>,\n",
       " <a class=\"link\" href=\"/restaurants/au-bon-pain-26/\"><span class=\"map-count\">32</span>Au Bon Pain</a>,\n",
       " <a class=\"link\" href=\"/restaurants/au-bon-pain-29/\"><span class=\"map-count\">33</span>Au Bon Pain</a>,\n",
       " <a class=\"link\" href=\"/restaurants/au-bon-pain-25/\"><span class=\"map-count\">34</span>Au Bon Pain</a>,\n",
       " <a class=\"link\" href=\"/restaurants/au-bon-pain-4/\"><span class=\"map-count\">35</span>Au Bon Pain</a>,\n",
       " <a class=\"link\" href=\"/restaurants/au-bon-pain-27/\"><span class=\"map-count\">36</span>Au Bon Pain</a>,\n",
       " <a class=\"link\" href=\"/restaurants/au-bon-pain-12/\"><span class=\"map-count\">37</span>Au Bon Pain</a>,\n",
       " <a class=\"link\" href=\"/restaurants/au-bon-pain-9/\"><span class=\"map-count\">38</span>Au Bon Pain</a>,\n",
       " <a class=\"link\" href=\"/restaurants/au-bon-pain-kiosk/\"><span class=\"map-count\">39</span>Au Bon Pain (Kiosk #1)</a>,\n",
       " <a class=\"link\" href=\"/restaurants/au-bon-pain-10/\"><span class=\"map-count\">40</span>Au Bon Pain (Kiosk #2)</a>,\n",
       " <a class=\"link\" href=\"/restaurants/au-bon-pain-kiosk-2/\"><span class=\"map-count\">41</span>Au Bon Pain (Kiosk)</a>,\n",
       " <a class=\"link\" href=\"/restaurants/au-bon-pain-milk-bottle/\"><span class=\"map-count\">42</span>Au Bon Pain (Milk Bottle)</a>,\n",
       " <a class=\"link\" href=\"/restaurants/au-bon-pain-terminal-a/\"><span class=\"map-count\">43</span>Au Bon Pain (Terminal A)</a>,\n",
       " <a class=\"link\" href=\"/restaurants/au-bon-pain-terminal-b/\"><span class=\"map-count\">44</span>Au Bon Pain (Terminal B)</a>,\n",
       " <a class=\"link\" href=\"/restaurants/au-bon-pain-terminal-c-kiosk/\"><span class=\"map-count\">45</span>Au Bon Pain (Terminal C Kiosk)</a>,\n",
       " <a class=\"link\" href=\"/restaurants/au-bon-pain-terminal-c/\"><span class=\"map-count\">46</span>Au Bon Pain (Terminal C)</a>,\n",
       " <a class=\"link\" href=\"/restaurants/aura/\"><span class=\"map-count\">47</span>Aura</a>,\n",
       " <a class=\"link\" href=\"/restaurants/avana-sushi/\"><span class=\"map-count\">48</span>Avana Sushi</a>,\n",
       " <a class=\"link\" href=\"/restaurants/avenue-one/\"><span class=\"map-count\">49</span>Avenue One</a>,\n",
       " <a class=\"link\" href=\"/restaurants/avery-bar/\"><span class=\"map-count\">50</span>Avery Bar</a>,\n",
       " <a class=\"link\" href=\"/restaurants/avery-provision-co/\"><span class=\"map-count\">51</span>Avery Provision Co.</a>,\n",
       " <a class=\"link\" href=\"/restaurants/bgood-6/\"><span class=\"map-count\">52</span>b.good</a>,\n",
       " <a class=\"link\" href=\"/restaurants/bgood-7/\"><span class=\"map-count\">53</span>b.good</a>,\n",
       " <a class=\"link\" href=\"/restaurants/bacco/\"><span class=\"map-count\">54</span>Bacco</a>,\n",
       " <a class=\"link\" href=\"/restaurants/back-deck-grill/\"><span class=\"map-count\">55</span>Back Deck Grill</a>,\n",
       " <a class=\"link\" href=\"/restaurants/bailey-and-sage/\"><span class=\"map-count\">56</span>Bailey and Sage</a>,\n",
       " <a class=\"link\" href=\"/restaurants/bangkok-express/\"><span class=\"map-count\">57</span>Bangkok Express</a>,\n",
       " <a class=\"link\" href=\"/restaurants/banh-mi-house/\"><span class=\"map-count\">58</span>Banh Mi House</a>,\n",
       " <a class=\"link\" href=\"/restaurants/barking-crab/\"><span class=\"map-count\">59</span>Barking Crab</a>,\n",
       " <a class=\"link\" href=\"/restaurants/barlows/\"><span class=\"map-count\">60</span>Barlow's</a>,\n",
       " <a class=\"link\" href=\"/restaurants/barney-fannings/\"><span class=\"map-count\">61</span>Barney Fanning's</a>,\n",
       " <a class=\"link\" href=\"/restaurants/barracuda-tavern/\"><span class=\"map-count\">62</span>Barracuda Tavern</a>,\n",
       " <a class=\"link\" href=\"/restaurants/barrington-coffee/\"><span class=\"map-count\">63</span>Barrington Coffee</a>,\n",
       " <a class=\"link\" href=\"/restaurants/bastille-kitchen/\"><span class=\"map-count\">64</span>Bastille Kitchen</a>,\n",
       " <a class=\"link\" href=\"/restaurants/battery-park/\"><span class=\"map-count\">65</span>Battery Park</a>,\n",
       " <a class=\"link\" href=\"/restaurants/bean-leaf-cafe/\"><span class=\"map-count\">66</span>Bean &amp; Leaf Cafe</a>,\n",
       " <a class=\"link\" href=\"/restaurants/beantown-hoagie/\"><span class=\"map-count\">67</span>BeanTown Hoagie</a>,\n",
       " <a class=\"link\" href=\"/restaurants/bees-knees-supply-co/\"><span class=\"map-count\">68</span>Bees Knees Supply Co.</a>,\n",
       " <a class=\"link\" href=\"/restaurants/beijing-kyoto/\"><span class=\"map-count\">69</span>Beijing Kyoto</a>,\n",
       " <a class=\"link\" href=\"/restaurants/bel-ari/\"><span class=\"map-count\">70</span>Bel Ari</a>,\n",
       " <a class=\"link\" href=\"/restaurants/bella-vista/\"><span class=\"map-count\">71</span>Bella Vista</a>,\n",
       " <a class=\"link\" href=\"/restaurants/ben-jerrys-5/\"><span class=\"map-count\">72</span>Ben &amp; Jerry's</a>,\n",
       " <a class=\"link\" href=\"/restaurants/ben-jerrys-6/\"><span class=\"map-count\">73</span>Ben &amp; Jerry's</a>,\n",
       " <a class=\"link\" href=\"/restaurants/ben-jerrys-4/\"><span class=\"map-count\">74</span>Ben &amp; Jerry's</a>,\n",
       " <a class=\"link\" href=\"/restaurants/beneventos/\"><span class=\"map-count\">75</span>Benevento's</a>,\n",
       " <a class=\"link\" href=\"/restaurants/bennys-crepe-cafe/\"><span class=\"map-count\">76</span>Benny's Crepe Cafe</a>,\n",
       " <a class=\"link\" href=\"/restaurants/berkshires/\"><span class=\"map-count\">77</span>Berkshire's</a>,\n",
       " <a class=\"link\" href=\"/restaurants/bertuccis/\"><span class=\"map-count\">78</span>Bertucci's</a>,\n",
       " <a class=\"link\" href=\"/restaurants/biddy-earlys/\"><span class=\"map-count\">79</span>Biddy Early's</a>,\n",
       " <a class=\"link\" href=\"/restaurants/big-guys/\"><span class=\"map-count\">80</span>Big Guy's Cafe &amp; Grill</a>,\n",
       " <a class=\"link\" href=\"/restaurants/bijou/\"><span class=\"map-count\">81</span>Bijou</a>,\n",
       " <a class=\"link\" href=\"/restaurants/billy-tse-restaurant/\"><span class=\"map-count\">82</span>Billy Tse Restaurant</a>,\n",
       " <a class=\"link\" href=\"/restaurants/birch-bar/\"><span class=\"map-count\">83</span>Birch Bar</a>,\n",
       " <a class=\"link\" href=\"/restaurants/biryani-park-truck/\"><span class=\"map-count\">84</span>Biryani Park Truck</a>,\n",
       " <a class=\"link\" href=\"/restaurants/bishops-mediterranean/\"><span class=\"map-count\">85</span>Bishop's Mediterranean</a>,\n",
       " <a class=\"link\" href=\"/restaurants/black-rose/\"><span class=\"map-count\">86</span>Black Rose</a>,\n",
       " <a class=\"link\" href=\"/restaurants/black-seed-cafe-grill/\"><span class=\"map-count\">87</span>Black Seed Cafe &amp; Grill</a>,\n",
       " <a class=\"link\" href=\"/restaurants/blackstone-grill/\"><span class=\"map-count\">88</span>Blackstone Grill</a>,\n",
       " <a class=\"link\" href=\"/restaurants/blu/\"><span class=\"map-count\">89</span>blu</a>,\n",
       " <a class=\"link\" href=\"/restaurants/blue-dragon/\"><span class=\"map-count\">90</span>Blue Dragon</a>,\n",
       " <a class=\"link\" href=\"/restaurants/blue-state-coffee-2/\"><span class=\"map-count\">91</span>Blue State Coffee</a>,\n",
       " <a class=\"link\" href=\"/restaurants/bogies-place/\"><span class=\"map-count\">92</span>Bogie's Place</a>,\n",
       " <a class=\"link\" href=\"/restaurants/boloco-2/\"><span class=\"map-count\">93</span>Boloco</a>,\n",
       " <a class=\"link\" href=\"/restaurants/boloco-3/\"><span class=\"map-count\">94</span>Boloco</a>,\n",
       " <a class=\"link\" href=\"/restaurants/boloco-9/\"><span class=\"map-count\">95</span>Boloco</a>,\n",
       " <a class=\"link\" href=\"/restaurants/boloco-13/\"><span class=\"map-count\">96</span>Boloco</a>,\n",
       " <a class=\"link\" href=\"/restaurants/boloco-7/\"><span class=\"map-count\">97</span>Boloco</a>,\n",
       " <a class=\"link\" href=\"/restaurants/boloco-8/\"><span class=\"map-count\">98</span>Boloco</a>,\n",
       " <a class=\"link\" href=\"/restaurants/bon-me-truck/\"><span class=\"map-count\">99</span>Bon Me Truck</a>,\n",
       " <a class=\"link\" href=\"/restaurants/bonapita/\"><span class=\"map-count\">100</span>Bonapita</a>]"
      ]
     },
     "execution_count": 10,
     "metadata": {},
     "output_type": "execute_result"
    }
   ],
   "source": [
    "places"
   ]
  },
  {
   "cell_type": "code",
   "execution_count": 11,
   "metadata": {
    "collapsed": false
   },
   "outputs": [
    {
     "data": {
      "text/plain": [
       "<a class=\"link\" href=\"/restaurants/101-bakery/\"><span class=\"map-count\">1</span>101 Bakery</a>"
      ]
     },
     "execution_count": 11,
     "metadata": {},
     "output_type": "execute_result"
    }
   ],
   "source": [
    "places[0]"
   ]
  },
  {
   "cell_type": "code",
   "execution_count": 12,
   "metadata": {
    "collapsed": false
   },
   "outputs": [
    {
     "ename": "AttributeError",
     "evalue": "'NoneType' object has no attribute 'get_text'",
     "output_type": "error",
     "traceback": [
      "\u001b[0;31m---------------------------------------------------------------------------\u001b[0m",
      "\u001b[0;31mAttributeError\u001b[0m                            Traceback (most recent call last)",
      "\u001b[0;32m<ipython-input-12-cc7da4b6be23>\u001b[0m in \u001b[0;36m<module>\u001b[0;34m()\u001b[0m\n\u001b[0;32m----> 1\u001b[0;31m \u001b[0mplaces\u001b[0m\u001b[0;34m[\u001b[0m\u001b[0;36m0\u001b[0m\u001b[0;34m]\u001b[0m\u001b[0;34m.\u001b[0m\u001b[0ma\u001b[0m\u001b[0;34m.\u001b[0m\u001b[0mget_text\u001b[0m\u001b[0;34m(\u001b[0m\u001b[0;34m)\u001b[0m\u001b[0;34m\u001b[0m\u001b[0m\n\u001b[0m",
      "\u001b[0;31mAttributeError\u001b[0m: 'NoneType' object has no attribute 'get_text'"
     ]
    }
   ],
   "source": [
    "places[0].a.get_text()"
   ]
  },
  {
   "cell_type": "code",
   "execution_count": 13,
   "metadata": {
    "collapsed": false
   },
   "outputs": [
    {
     "data": {
      "text/plain": [
       "<a class=\"link\" href=\"/restaurants/101-bakery/\"><span class=\"map-count\">1</span>101 Bakery</a>"
      ]
     },
     "execution_count": 13,
     "metadata": {},
     "output_type": "execute_result"
    }
   ],
   "source": [
    "places[0]"
   ]
  },
  {
   "cell_type": "code",
   "execution_count": 14,
   "metadata": {
    "collapsed": false
   },
   "outputs": [
    {
     "ename": "TypeError",
     "evalue": "'NoneType' object has no attribute '__getitem__'",
     "output_type": "error",
     "traceback": [
      "\u001b[0;31m---------------------------------------------------------------------------\u001b[0m",
      "\u001b[0;31mTypeError\u001b[0m                                 Traceback (most recent call last)",
      "\u001b[0;32m<ipython-input-14-32567a003307>\u001b[0m in \u001b[0;36m<module>\u001b[0;34m()\u001b[0m\n\u001b[0;32m----> 1\u001b[0;31m \u001b[0mplaces\u001b[0m\u001b[0;34m[\u001b[0m\u001b[0;36m0\u001b[0m\u001b[0;34m]\u001b[0m\u001b[0;34m.\u001b[0m\u001b[0ma\u001b[0m\u001b[0;34m[\u001b[0m\u001b[0;34m\"href\"\u001b[0m\u001b[0;34m]\u001b[0m\u001b[0;34m\u001b[0m\u001b[0m\n\u001b[0m",
      "\u001b[0;31mTypeError\u001b[0m: 'NoneType' object has no attribute '__getitem__'"
     ]
    }
   ],
   "source": [
    "places[0].a[\"href\"]"
   ]
  },
  {
   "cell_type": "code",
   "execution_count": 15,
   "metadata": {
    "collapsed": false
   },
   "outputs": [
    {
     "data": {
      "text/plain": [
       "<a class=\"link\" href=\"/restaurants/101-bakery/\"><span class=\"map-count\">1</span>101 Bakery</a>"
      ]
     },
     "execution_count": 15,
     "metadata": {},
     "output_type": "execute_result"
    }
   ],
   "source": [
    "places[0]"
   ]
  },
  {
   "cell_type": "code",
   "execution_count": 16,
   "metadata": {
    "collapsed": false
   },
   "outputs": [
    {
     "ename": "NameError",
     "evalue": "name 'letters' is not defined",
     "output_type": "error",
     "traceback": [
      "\u001b[0;31m---------------------------------------------------------------------------\u001b[0m",
      "\u001b[0;31mNameError\u001b[0m                                 Traceback (most recent call last)",
      "\u001b[0;32m<ipython-input-16-94a5724da85c>\u001b[0m in \u001b[0;36m<module>\u001b[0;34m()\u001b[0m\n\u001b[1;32m      1\u001b[0m \u001b[0mlobbying\u001b[0m \u001b[0;34m=\u001b[0m \u001b[0;34m{\u001b[0m\u001b[0;34m}\u001b[0m\u001b[0;34m\u001b[0m\u001b[0m\n\u001b[0;32m----> 2\u001b[0;31m \u001b[0;32mfor\u001b[0m \u001b[0melement\u001b[0m \u001b[0;32min\u001b[0m \u001b[0mletters\u001b[0m\u001b[0;34m:\u001b[0m\u001b[0;34m\u001b[0m\u001b[0m\n\u001b[0m\u001b[1;32m      3\u001b[0m     \u001b[0mlobbying\u001b[0m\u001b[0;34m[\u001b[0m\u001b[0melement\u001b[0m\u001b[0;34m.\u001b[0m\u001b[0ma\u001b[0m\u001b[0;34m.\u001b[0m\u001b[0mget_test\u001b[0m\u001b[0;34m(\u001b[0m\u001b[0;34m)\u001b[0m\u001b[0;34m]\u001b[0m \u001b[0;34m=\u001b[0m \u001b[0;34m{\u001b[0m\u001b[0;34m}\u001b[0m\u001b[0;34m\u001b[0m\u001b[0m\n",
      "\u001b[0;31mNameError\u001b[0m: name 'letters' is not defined"
     ]
    }
   ],
   "source": [
    "lobbying = {}\n",
    "for element in letters:\n",
    "    lobbying[element.a.get_test()] = {}"
   ]
  },
  {
   "cell_type": "code",
   "execution_count": 17,
   "metadata": {
    "collapsed": false
   },
   "outputs": [
    {
     "ename": "NameError",
     "evalue": "name 'letters' is not defined",
     "output_type": "error",
     "traceback": [
      "\u001b[0;31m---------------------------------------------------------------------------\u001b[0m",
      "\u001b[0;31mNameError\u001b[0m                                 Traceback (most recent call last)",
      "\u001b[0;32m<ipython-input-17-31eca7245742>\u001b[0m in \u001b[0;36m<module>\u001b[0;34m()\u001b[0m\n\u001b[1;32m      1\u001b[0m \u001b[0mplaces\u001b[0m \u001b[0;34m=\u001b[0m \u001b[0;34m{\u001b[0m\u001b[0;34m}\u001b[0m\u001b[0;34m\u001b[0m\u001b[0m\n\u001b[0;32m----> 2\u001b[0;31m \u001b[0;32mfor\u001b[0m \u001b[0melement\u001b[0m \u001b[0;32min\u001b[0m \u001b[0mletters\u001b[0m\u001b[0;34m:\u001b[0m\u001b[0;34m\u001b[0m\u001b[0m\n\u001b[0m\u001b[1;32m      3\u001b[0m     \u001b[0mplaces\u001b[0m\u001b[0;34m[\u001b[0m\u001b[0melement\u001b[0m\u001b[0;34m.\u001b[0m\u001b[0ma\u001b[0m\u001b[0;34m.\u001b[0m\u001b[0mget_test\u001b[0m\u001b[0;34m(\u001b[0m\u001b[0;34m)\u001b[0m\u001b[0;34m]\u001b[0m \u001b[0;34m=\u001b[0m \u001b[0;34m{\u001b[0m\u001b[0;34m}\u001b[0m\u001b[0;34m\u001b[0m\u001b[0m\n",
      "\u001b[0;31mNameError\u001b[0m: name 'letters' is not defined"
     ]
    }
   ],
   "source": [
    "places = {}\n",
    "for element in letters:\n",
    "    places[element.a.get_test()] = {}"
   ]
  },
  {
   "cell_type": "code",
   "execution_count": 18,
   "metadata": {
    "collapsed": false
   },
   "outputs": [
    {
     "ename": "KeyError",
     "evalue": "0",
     "output_type": "error",
     "traceback": [
      "\u001b[0;31m---------------------------------------------------------------------------\u001b[0m",
      "\u001b[0;31mKeyError\u001b[0m                                  Traceback (most recent call last)",
      "\u001b[0;32m<ipython-input-18-8ffdbb400b4c>\u001b[0m in \u001b[0;36m<module>\u001b[0;34m()\u001b[0m\n\u001b[0;32m----> 1\u001b[0;31m \u001b[0mplaces\u001b[0m\u001b[0;34m[\u001b[0m\u001b[0;36m0\u001b[0m\u001b[0;34m]\u001b[0m\u001b[0;34m\u001b[0m\u001b[0m\n\u001b[0m",
      "\u001b[0;31mKeyError\u001b[0m: 0"
     ]
    }
   ],
   "source": [
    "places[0]"
   ]
  },
  {
   "cell_type": "code",
   "execution_count": 19,
   "metadata": {
    "collapsed": true
   },
   "outputs": [],
   "source": [
    "places = soup.find_all(class_ = \"link\")"
   ]
  },
  {
   "cell_type": "code",
   "execution_count": 20,
   "metadata": {
    "collapsed": false
   },
   "outputs": [
    {
     "ename": "AttributeError",
     "evalue": "'NoneType' object has no attribute 'get_test'",
     "output_type": "error",
     "traceback": [
      "\u001b[0;31m---------------------------------------------------------------------------\u001b[0m",
      "\u001b[0;31mAttributeError\u001b[0m                            Traceback (most recent call last)",
      "\u001b[0;32m<ipython-input-20-dce27c57425d>\u001b[0m in \u001b[0;36m<module>\u001b[0;34m()\u001b[0m\n\u001b[1;32m      1\u001b[0m \u001b[0mlobbying\u001b[0m \u001b[0;34m=\u001b[0m \u001b[0;34m{\u001b[0m\u001b[0;34m}\u001b[0m\u001b[0;34m\u001b[0m\u001b[0m\n\u001b[1;32m      2\u001b[0m \u001b[0;32mfor\u001b[0m \u001b[0melement\u001b[0m \u001b[0;32min\u001b[0m \u001b[0mplaces\u001b[0m\u001b[0;34m:\u001b[0m\u001b[0;34m\u001b[0m\u001b[0m\n\u001b[0;32m----> 3\u001b[0;31m     \u001b[0mlobbying\u001b[0m\u001b[0;34m[\u001b[0m\u001b[0melement\u001b[0m\u001b[0;34m.\u001b[0m\u001b[0ma\u001b[0m\u001b[0;34m.\u001b[0m\u001b[0mget_test\u001b[0m\u001b[0;34m(\u001b[0m\u001b[0;34m)\u001b[0m\u001b[0;34m]\u001b[0m \u001b[0;34m=\u001b[0m \u001b[0;34m{\u001b[0m\u001b[0;34m}\u001b[0m\u001b[0;34m\u001b[0m\u001b[0m\n\u001b[0m",
      "\u001b[0;31mAttributeError\u001b[0m: 'NoneType' object has no attribute 'get_test'"
     ]
    }
   ],
   "source": [
    "lobbying = {}\n",
    "for element in places:\n",
    "    lobbying[element.a.get_test()] = {}"
   ]
  },
  {
   "cell_type": "code",
   "execution_count": 21,
   "metadata": {
    "collapsed": false
   },
   "outputs": [
    {
     "ename": "AttributeError",
     "evalue": "'NoneType' object has no attribute 'get_text'",
     "output_type": "error",
     "traceback": [
      "\u001b[0;31m---------------------------------------------------------------------------\u001b[0m",
      "\u001b[0;31mAttributeError\u001b[0m                            Traceback (most recent call last)",
      "\u001b[0;32m<ipython-input-21-4b7e20906f37>\u001b[0m in \u001b[0;36m<module>\u001b[0;34m()\u001b[0m\n\u001b[1;32m      1\u001b[0m \u001b[0mlobbying\u001b[0m \u001b[0;34m=\u001b[0m \u001b[0;34m{\u001b[0m\u001b[0;34m}\u001b[0m\u001b[0;34m\u001b[0m\u001b[0m\n\u001b[1;32m      2\u001b[0m \u001b[0;32mfor\u001b[0m \u001b[0melement\u001b[0m \u001b[0;32min\u001b[0m \u001b[0mplaces\u001b[0m\u001b[0;34m:\u001b[0m\u001b[0;34m\u001b[0m\u001b[0m\n\u001b[0;32m----> 3\u001b[0;31m     \u001b[0mlobbying\u001b[0m\u001b[0;34m[\u001b[0m\u001b[0melement\u001b[0m\u001b[0;34m.\u001b[0m\u001b[0ma\u001b[0m\u001b[0;34m.\u001b[0m\u001b[0mget_text\u001b[0m\u001b[0;34m(\u001b[0m\u001b[0;34m)\u001b[0m\u001b[0;34m]\u001b[0m \u001b[0;34m=\u001b[0m \u001b[0;34m{\u001b[0m\u001b[0;34m}\u001b[0m\u001b[0;34m\u001b[0m\u001b[0m\n\u001b[0m",
      "\u001b[0;31mAttributeError\u001b[0m: 'NoneType' object has no attribute 'get_text'"
     ]
    }
   ],
   "source": [
    "lobbying = {}\n",
    "for element in places:\n",
    "    lobbying[element.a.get_text()] = {}"
   ]
  },
  {
   "cell_type": "code",
   "execution_count": 22,
   "metadata": {
    "collapsed": false
   },
   "outputs": [
    {
     "ename": "SyntaxError",
     "evalue": "invalid syntax (<ipython-input-22-87ba21b660cd>, line 2)",
     "output_type": "error",
     "traceback": [
      "\u001b[0;36m  File \u001b[0;32m\"<ipython-input-22-87ba21b660cd>\"\u001b[0;36m, line \u001b[0;32m2\u001b[0m\n\u001b[0;31m    print element.get_text())\u001b[0m\n\u001b[0m                            ^\u001b[0m\n\u001b[0;31mSyntaxError\u001b[0m\u001b[0;31m:\u001b[0m invalid syntax\n"
     ]
    }
   ],
   "source": [
    "for element in places:\n",
    "    print element.get_text())"
   ]
  },
  {
   "cell_type": "code",
   "execution_count": 23,
   "metadata": {
    "collapsed": false
   },
   "outputs": [
    {
     "name": "stdout",
     "output_type": "stream",
     "text": [
      "1101 Bakery\n",
      "2163 Vietnamese Sandwiches\n",
      "349 Social\n",
      "475 on Liberty Wharf\n",
      "5A4 Truck\n",
      "6Abby Lane\n",
      "7Al Capone\n",
      "8Al Dente Ristorante\n",
      "9Al's South Street Cafe\n",
      "10Al's State Street Cafe\n",
      "11Alibi\n",
      "12American Bakers' Cafe\n",
      "13Ames Plow Tavern\n",
      "14Amici\n",
      "15An Tain\n",
      "16Angela's Cafe\n",
      "17Anna's Taqueria\n",
      "18Anthem\n",
      "19Anthony's Cafe\n",
      "20Antico Forno\n",
      "21Antonio's\n",
      "22Aragosta Bar + Bistro\n",
      "23Archie's New York Deli\n",
      "24Archie's Place\n",
      "25Aria Trattoria\n",
      "26Artisan Bistro\n",
      "27Artu\n",
      "28Asian Garden Restaurant\n",
      "29Asian House\n",
      "30Assaggio\n",
      "31Atlantic Beer Garden\n",
      "32Au Bon Pain\n",
      "33Au Bon Pain\n",
      "34Au Bon Pain\n",
      "35Au Bon Pain\n",
      "36Au Bon Pain\n",
      "37Au Bon Pain\n",
      "38Au Bon Pain\n",
      "39Au Bon Pain (Kiosk #1)\n",
      "40Au Bon Pain (Kiosk #2)\n",
      "41Au Bon Pain (Kiosk)\n",
      "42Au Bon Pain (Milk Bottle)\n",
      "43Au Bon Pain (Terminal A)\n",
      "44Au Bon Pain (Terminal B)\n",
      "45Au Bon Pain (Terminal C Kiosk)\n",
      "46Au Bon Pain (Terminal C)\n",
      "47Aura\n",
      "48Avana Sushi\n",
      "49Avenue One\n",
      "50Avery Bar\n",
      "51Avery Provision Co.\n",
      "52b.good\n",
      "53b.good\n",
      "54Bacco\n",
      "55Back Deck Grill\n",
      "56Bailey and Sage\n",
      "57Bangkok Express\n",
      "58Banh Mi House\n",
      "59Barking Crab\n",
      "60Barlow's\n",
      "61Barney Fanning's\n",
      "62Barracuda Tavern\n",
      "63Barrington Coffee\n",
      "64Bastille Kitchen\n",
      "65Battery Park\n",
      "66Bean & Leaf Cafe\n",
      "67BeanTown Hoagie\n",
      "68Bees Knees Supply Co.\n",
      "69Beijing Kyoto\n",
      "70Bel Ari\n",
      "71Bella Vista\n",
      "72Ben & Jerry's\n",
      "73Ben & Jerry's\n",
      "74Ben & Jerry's\n",
      "75Benevento's\n",
      "76Benny's Crepe Cafe\n",
      "77Berkshire's\n",
      "78Bertucci's\n",
      "79Biddy Early's\n",
      "80Big Guy's Cafe & Grill\n",
      "81Bijou\n",
      "82Billy Tse Restaurant\n",
      "83Birch Bar\n",
      "84Biryani Park Truck\n",
      "85Bishop's Mediterranean\n",
      "86Black Rose\n",
      "87Black Seed Cafe & Grill\n",
      "88Blackstone Grill\n",
      "89blu\n",
      "90Blue Dragon\n",
      "91Blue State Coffee\n",
      "92Bogie's Place\n",
      "93Boloco\n",
      "94Boloco\n",
      "95Boloco\n",
      "96Boloco\n",
      "97Boloco\n",
      "98Boloco\n",
      "99Bon Me Truck\n",
      "100Bonapita\n"
     ]
    }
   ],
   "source": [
    "for element in places:\n",
    "    print element.get_text()"
   ]
  },
  {
   "cell_type": "code",
   "execution_count": 24,
   "metadata": {
    "collapsed": false
   },
   "outputs": [
    {
     "data": {
      "text/plain": [
       "<a class=\"link\" href=\"/restaurants/101-bakery/\"><span class=\"map-count\">1</span>101 Bakery</a>"
      ]
     },
     "execution_count": 24,
     "metadata": {},
     "output_type": "execute_result"
    }
   ],
   "source": [
    "places[0]"
   ]
  },
  {
   "cell_type": "code",
   "execution_count": 25,
   "metadata": {
    "collapsed": true
   },
   "outputs": [],
   "source": [
    "import re"
   ]
  },
  {
   "cell_type": "code",
   "execution_count": 26,
   "metadata": {
    "collapsed": false
   },
   "outputs": [
    {
     "ename": "TypeError",
     "evalue": "expected string or buffer",
     "output_type": "error",
     "traceback": [
      "\u001b[0;31m---------------------------------------------------------------------------\u001b[0m",
      "\u001b[0;31mTypeError\u001b[0m                                 Traceback (most recent call last)",
      "\u001b[0;32m<ipython-input-26-b4b5edb8c941>\u001b[0m in \u001b[0;36m<module>\u001b[0;34m()\u001b[0m\n\u001b[0;32m----> 1\u001b[0;31m \u001b[0mre\u001b[0m\u001b[0;34m.\u001b[0m\u001b[0msub\u001b[0m\u001b[0;34m(\u001b[0m\u001b[0;34m'.*href=\"|><span class.*'\u001b[0m\u001b[0;34m,\u001b[0m \u001b[0;34m''\u001b[0m\u001b[0;34m,\u001b[0m \u001b[0mplaces\u001b[0m\u001b[0;34m[\u001b[0m\u001b[0;36m0\u001b[0m\u001b[0;34m]\u001b[0m\u001b[0;34m)\u001b[0m\u001b[0;34m\u001b[0m\u001b[0m\n\u001b[0m",
      "\u001b[0;32m/Users/danmartin/anaconda/lib/python2.7/re.pyc\u001b[0m in \u001b[0;36msub\u001b[0;34m(pattern, repl, string, count, flags)\u001b[0m\n\u001b[1;32m    153\u001b[0m     \u001b[0ma\u001b[0m \u001b[0mcallable\u001b[0m\u001b[0;34m,\u001b[0m \u001b[0mit\u001b[0m\u001b[0;31m'\u001b[0m\u001b[0ms\u001b[0m \u001b[0mpassed\u001b[0m \u001b[0mthe\u001b[0m \u001b[0mmatch\u001b[0m \u001b[0mobject\u001b[0m \u001b[0;32mand\u001b[0m \u001b[0mmust\u001b[0m \u001b[0;32mreturn\u001b[0m\u001b[0;34m\u001b[0m\u001b[0m\n\u001b[1;32m    154\u001b[0m     a replacement string to be used.\"\"\"\n\u001b[0;32m--> 155\u001b[0;31m     \u001b[0;32mreturn\u001b[0m \u001b[0m_compile\u001b[0m\u001b[0;34m(\u001b[0m\u001b[0mpattern\u001b[0m\u001b[0;34m,\u001b[0m \u001b[0mflags\u001b[0m\u001b[0;34m)\u001b[0m\u001b[0;34m.\u001b[0m\u001b[0msub\u001b[0m\u001b[0;34m(\u001b[0m\u001b[0mrepl\u001b[0m\u001b[0;34m,\u001b[0m \u001b[0mstring\u001b[0m\u001b[0;34m,\u001b[0m \u001b[0mcount\u001b[0m\u001b[0;34m)\u001b[0m\u001b[0;34m\u001b[0m\u001b[0m\n\u001b[0m\u001b[1;32m    156\u001b[0m \u001b[0;34m\u001b[0m\u001b[0m\n\u001b[1;32m    157\u001b[0m \u001b[0;32mdef\u001b[0m \u001b[0msubn\u001b[0m\u001b[0;34m(\u001b[0m\u001b[0mpattern\u001b[0m\u001b[0;34m,\u001b[0m \u001b[0mrepl\u001b[0m\u001b[0;34m,\u001b[0m \u001b[0mstring\u001b[0m\u001b[0;34m,\u001b[0m \u001b[0mcount\u001b[0m\u001b[0;34m=\u001b[0m\u001b[0;36m0\u001b[0m\u001b[0;34m,\u001b[0m \u001b[0mflags\u001b[0m\u001b[0;34m=\u001b[0m\u001b[0;36m0\u001b[0m\u001b[0;34m)\u001b[0m\u001b[0;34m:\u001b[0m\u001b[0;34m\u001b[0m\u001b[0m\n",
      "\u001b[0;31mTypeError\u001b[0m: expected string or buffer"
     ]
    }
   ],
   "source": [
    "re.sub('.*href=\"|><span class.*', '', places[0])"
   ]
  },
  {
   "cell_type": "code",
   "execution_count": 27,
   "metadata": {
    "collapsed": false
   },
   "outputs": [
    {
     "data": {
      "text/plain": [
       "'<a class=\"link\" href=\"/restaurants/101-bakery/\"><span class=\"map-count\">1</span>101 Bakery</a>'"
      ]
     },
     "execution_count": 27,
     "metadata": {},
     "output_type": "execute_result"
    }
   ],
   "source": [
    "str(places[0])"
   ]
  },
  {
   "cell_type": "code",
   "execution_count": 28,
   "metadata": {
    "collapsed": true
   },
   "outputs": [],
   "source": [
    "foo = str(places[0])"
   ]
  },
  {
   "cell_type": "code",
   "execution_count": 29,
   "metadata": {
    "collapsed": false
   },
   "outputs": [
    {
     "data": {
      "text/plain": [
       "'/restaurants/101-bakery/\"'"
      ]
     },
     "execution_count": 29,
     "metadata": {},
     "output_type": "execute_result"
    }
   ],
   "source": [
    "re.sub('.*href=\"|><span class.*', '', foo)"
   ]
  },
  {
   "cell_type": "code",
   "execution_count": 81,
   "metadata": {
    "collapsed": true
   },
   "outputs": [],
   "source": [
    "gah = re.sub('.*href=\"|\"><span class.*', '', foo)"
   ]
  },
  {
   "cell_type": "code",
   "execution_count": 84,
   "metadata": {
    "collapsed": false
   },
   "outputs": [
    {
     "name": "stdout",
     "output_type": "stream",
     "text": [
      "http://boston.menupages.com/restaurants/101-bakery/menu\n"
     ]
    }
   ],
   "source": [
    "print prefix + gah + 'menu'"
   ]
  },
  {
   "cell_type": "code",
   "execution_count": 157,
   "metadata": {
    "collapsed": false
   },
   "outputs": [
    {
     "name": "stdout",
     "output_type": "stream",
     "text": [
      "{'http://boston.menupages.com/restaurants/75-on-liberty-wharf/menu': {'price': u'$', 'name': u'1101 Bakery'}, 'http://boston.menupages.com/restaurants/annas-taqueria-5/menu': {'price': u'$', 'name': u'2163 Vietnamese Sandwiches'}, 'http://boston.menupages.com/restaurants/au-bon-pain-terminal-c-kiosk/menu': {'price': u'$$$$', 'name': u'349 Social'}, 'http://boston.menupages.com/restaurants/banh-mi-house/menu': {'price': u'$$', 'name': u'475 on Liberty Wharf'}, 'http://boston.menupages.com/restaurants/bertuccis/menu': {'price': u'$$', 'name': u'5A4 Truck'}, 'http://boston.menupages.com/restaurants/biryani-park-truck/menu': {'price': u'$$$$', 'name': u'6Abby Lane'}, 'http://boston.menupages.com/restaurants/avery-provision-co/menu': {'price': u'$', 'name': u'7Al Capone'}, 'http://boston.menupages.com/restaurants/boloco-8/menu': {'price': u'$$$', 'name': u'8Al Dente Ristorante'}, 'http://boston.menupages.com/restaurants/boloco-3/menu': {'price': u'$', 'name': u\"9Al's South Street Cafe\"}, 'http://boston.menupages.com/restaurants/black-seed-cafe-grill/menu': {'price': u'$', 'name': u\"10Al's State Street Cafe\"}, 'http://boston.menupages.com/restaurants/barrington-coffee/menu': {'price': u'$$', 'name': u'11Alibi'}, 'http://boston.menupages.com/restaurants/artisan-bistro/menu': {'price': u'$', 'name': u\"12American Bakers' Cafe\"}, 'http://boston.menupages.com/restaurants/american-bakers-cafe/menu': {'price': u'$$', 'name': u'13Ames Plow Tavern'}, 'http://boston.menupages.com/restaurants/avery-bar/menu': {'price': u'$$', 'name': u'14Amici'}, 'http://boston.menupages.com/restaurants/assaggio/menu': {'price': u'$$', 'name': u'15An Tain'}, 'http://boston.menupages.com/restaurants/als-south-street-cafe/menu': {'price': u'$$$', 'name': u\"16Angela's Cafe\"}, 'http://boston.menupages.com/restaurants/barlows/menu': {'price': u'$', 'name': u\"17Anna's Taqueria\"}, 'http://boston.menupages.com/restaurants/black-rose/menu': {'price': u'$$$$', 'name': u'18Anthem'}, 'http://boston.menupages.com/restaurants/battery-park/menu': {'price': u'$', 'name': u\"19Anthony's Cafe\"}, 'http://boston.menupages.com/restaurants/bennys-crepe-cafe/menu': {'price': u'$$$$', 'name': u'20Antico Forno'}, 'http://boston.menupages.com/restaurants/alibi/menu': {'price': u'$$$', 'name': u\"21Antonio's\"}, 'http://boston.menupages.com/restaurants/big-guys/menu': {'price': u'$$$$$', 'name': u'22Aragosta Bar + Bistro'}, 'http://boston.menupages.com/restaurants/bon-me-truck/menu': {'price': u'$', 'name': u\"23Archie's New York Deli\"}, 'http://boston.menupages.com/restaurants/archies-place/menu': {'price': u'$$', 'name': u\"24Archie's Place\"}, 'http://boston.menupages.com/restaurants/anthem/menu': {'price': u'$$$$$', 'name': u'25Aria Trattoria'}, 'http://boston.menupages.com/restaurants/49-social/menu': {'price': u'$$$$', 'name': u'26Artisan Bistro'}, 'http://boston.menupages.com/restaurants/blu/menu': {'price': u'$$$$', 'name': u'27Artu'}, 'http://boston.menupages.com/restaurants/au-bon-pain-12/menu': {'price': u'$$', 'name': u'28Asian Garden Restaurant'}, 'http://boston.menupages.com/restaurants/avenue-one/menu': {'price': u'$$$', 'name': u'29Asian House'}, 'http://boston.menupages.com/restaurants/bonapita/menu': {'price': u'$$$', 'name': u'30Assaggio'}, 'http://boston.menupages.com/restaurants/aura/menu': {'price': u'$$$', 'name': u'31Atlantic Beer Garden'}, 'http://boston.menupages.com/restaurants/ames-plow-tavern/menu': {'price': u'$', 'name': u'32Au Bon Pain'}, 'http://boston.menupages.com/restaurants/berkshires/menu': {'price': u'$', 'name': u'33Au Bon Pain'}, 'http://boston.menupages.com/restaurants/artu-2/menu': {'price': u'$', 'name': u'34Au Bon Pain'}, 'http://boston.menupages.com/restaurants/ben-jerrys-4/menu': {'price': u'$', 'name': u'35Au Bon Pain'}, 'http://boston.menupages.com/restaurants/archies-new-york-deli/menu': {'price': u'$', 'name': u'36Au Bon Pain'}, 'http://boston.menupages.com/restaurants/antico-forno/menu': {'price': u'$', 'name': u'37Au Bon Pain'}, 'http://boston.menupages.com/restaurants/bastille-kitchen/menu': {'price': u'$', 'name': u'38Au Bon Pain'}, 'http://boston.menupages.com/restaurants/aragosta-bar-bistro/menu': {'price': u'$', 'name': u'39Au Bon Pain (Kiosk #1)'}, 'http://boston.menupages.com/restaurants/barney-fannings/menu': {'price': u'$', 'name': u'40Au Bon Pain (Kiosk #2)'}, 'http://boston.menupages.com/restaurants/amici/menu': {'price': u'$', 'name': u'41Au Bon Pain (Kiosk)'}, 'http://boston.menupages.com/restaurants/abby-lane/menu': {'price': u'$', 'name': u'42Au Bon Pain (Milk Bottle)'}, 'http://boston.menupages.com/restaurants/au-bon-pain-9/menu': {'price': u'$', 'name': u'43Au Bon Pain (Terminal A)'}, 'http://boston.menupages.com/restaurants/bangkok-express/menu': {'price': u'$', 'name': u'44Au Bon Pain (Terminal B)'}, 'http://boston.menupages.com/restaurants/an-tain/menu': {'price': u'$', 'name': u'45Au Bon Pain (Terminal C Kiosk)'}, 'http://boston.menupages.com/restaurants/asian-garden-restaurant/menu': {'price': u'$', 'name': u'46Au Bon Pain (Terminal C)'}, 'http://boston.menupages.com/restaurants/ben-jerrys-6/menu': {'price': u'$$$$$', 'name': u'47Aura'}, 'http://boston.menupages.com/restaurants/barracuda-tavern/menu': {'price': u'$$', 'name': u'48Avana Sushi'}, 'http://boston.menupages.com/restaurants/al-capone/menu': {'price': u'$$$$$', 'name': u'49Avenue One'}, 'http://boston.menupages.com/restaurants/bgood-7/menu': {'price': u'$$$$', 'name': u'50Avery Bar'}, 'http://boston.menupages.com/restaurants/au-bon-pain-27/menu': {'price': u'$$', 'name': u'51Avery Provision Co.'}, 'http://boston.menupages.com/restaurants/atlantic-beer-garden/menu': {'price': u'$', 'name': u'52b.good'}, 'http://boston.menupages.com/restaurants/barking-crab/menu': {'price': u'$$', 'name': u'53b.good'}, 'http://boston.menupages.com/restaurants/birch-bar/menu': {'price': u'$$$$', 'name': u'54Bacco'}, 'http://boston.menupages.com/restaurants/au-bon-pain-29/menu': {'price': u'$$$$', 'name': u'55Back Deck Grill'}, 'http://boston.menupages.com/restaurants/anthonys-cafe/menu': {'price': u'$$', 'name': u'56Bailey and Sage'}, 'http://boston.menupages.com/restaurants/bailey-and-sage/menu': {'price': u'$$', 'name': u'57Bangkok Express'}, 'http://boston.menupages.com/restaurants/a4-truck/menu': {'price': u'$', 'name': u'58Banh Mi House'}, 'http://boston.menupages.com/restaurants/au-bon-pain-25/menu': {'price': u'$$$$', 'name': u'59Barking Crab'}, 'http://boston.menupages.com/restaurants/bacco/menu': {'price': u'$$$', 'name': u\"60Barlow's\"}, 'http://boston.menupages.com/restaurants/au-bon-pain-kiosk-2/menu': {'price': u'$$', 'name': u\"61Barney Fanning's\"}, 'http://boston.menupages.com/restaurants/au-bon-pain-milk-bottle/menu': {'price': u'$$$', 'name': u'62Barracuda Tavern'}, 'http://boston.menupages.com/restaurants/bees-knees-supply-co/menu': {'price': u'$', 'name': u'63Barrington Coffee'}, 'http://boston.menupages.com/restaurants/boloco-2/menu': {'price': u'$$$$$', 'name': u'64Bastille Kitchen'}, 'http://boston.menupages.com/restaurants/blue-dragon/menu': {'price': u'$$$', 'name': u'65Battery Park'}, 'http://boston.menupages.com/restaurants/als-state-street-cafe/menu': {'price': u'$$', 'name': u'66Bean & Leaf Cafe'}, 'http://boston.menupages.com/restaurants/angelas-cafe/menu': {'price': u'$', 'name': u'67BeanTown Hoagie'}, 'http://boston.menupages.com/restaurants/163-vietnamese-sandwiches/menu': {'price': u'$$', 'name': u'68Bees Knees Supply Co.'}, 'http://boston.menupages.com/restaurants/au-bon-pain-terminal-b/menu': {'price': u'$$', 'name': u'69Beijing Kyoto'}, 'http://boston.menupages.com/restaurants/101-bakery/menu': {'price': u'$$$$', 'name': u'70Bel Ari'}, 'http://boston.menupages.com/restaurants/boloco-7/menu': {'price': u'$$$', 'name': u'71Bella Vista'}, 'http://boston.menupages.com/restaurants/beijing-kyoto/menu': {'price': u'$', 'name': u\"72Ben & Jerry's\"}, 'http://boston.menupages.com/restaurants/boloco-13/menu': {'price': u'$', 'name': u\"73Ben & Jerry's\"}, 'http://boston.menupages.com/restaurants/avana-sushi/menu': {'price': u'$', 'name': u\"74Ben & Jerry's\"}, 'http://boston.menupages.com/restaurants/bijou/menu': {'price': u'$$$', 'name': u\"75Benevento's\"}, 'http://boston.menupages.com/restaurants/al-dente-ristorante/menu': {'price': u'$', 'name': u\"76Benny's Crepe Cafe\"}, 'http://boston.menupages.com/restaurants/aria-trattoria/menu': {'price': u'$$$', 'name': u\"77Berkshire's\"}, 'http://boston.menupages.com/restaurants/antonios/menu': {'price': u'$$', 'name': u\"78Bertucci's\"}, 'http://boston.menupages.com/restaurants/bel-ari/menu': {'price': u'$', 'name': u\"79Biddy Early's\"}, 'http://boston.menupages.com/restaurants/au-bon-pain-4/menu': {'price': u'$$', 'name': u\"80Big Guy's Cafe & Grill\"}, 'http://boston.menupages.com/restaurants/asian-house/menu': {'price': u'$$$', 'name': u'81Bijou'}, 'http://boston.menupages.com/restaurants/back-deck-grill/menu': {'price': u'$$$', 'name': u'82Billy Tse Restaurant'}, 'http://boston.menupages.com/restaurants/bishops-mediterranean/menu': {'price': u'$$$', 'name': u'83Birch Bar'}, 'http://boston.menupages.com/restaurants/blue-state-coffee-2/menu': {'price': u'$$', 'name': u'84Biryani Park Truck'}, 'http://boston.menupages.com/restaurants/bogies-place/menu': {'price': u'$$', 'name': u\"85Bishop's Mediterranean\"}, 'http://boston.menupages.com/restaurants/biddy-earlys/menu': {'price': u'$$$', 'name': u'86Black Rose'}, 'http://boston.menupages.com/restaurants/au-bon-pain-terminal-a/menu': {'price': u'$', 'name': u'87Black Seed Cafe & Grill'}, 'http://boston.menupages.com/restaurants/bgood-6/menu': {'price': u'$$$', 'name': u'88Blackstone Grill'}, 'http://boston.menupages.com/restaurants/au-bon-pain-26/menu': {'price': u'$$$$', 'name': u'89blu'}, 'http://boston.menupages.com/restaurants/au-bon-pain-10/menu': {'price': u'$$$', 'name': u'90Blue Dragon'}, 'http://boston.menupages.com/restaurants/au-bon-pain-kiosk/menu': {'price': u'$', 'name': u'91Blue State Coffee'}, 'http://boston.menupages.com/restaurants/boloco-9/menu': {'price': u'$$$$', 'name': u\"92Bogie's Place\"}, 'http://boston.menupages.com/restaurants/ben-jerrys-5/menu': {'price': u'$', 'name': u'93Boloco'}, 'http://boston.menupages.com/restaurants/beantown-hoagie/menu': {'price': u'$', 'name': u'94Boloco'}, 'http://boston.menupages.com/restaurants/bean-leaf-cafe/menu': {'price': u'$', 'name': u'95Boloco'}, 'http://boston.menupages.com/restaurants/billy-tse-restaurant/menu': {'price': u'$', 'name': u'96Boloco'}, 'http://boston.menupages.com/restaurants/au-bon-pain-terminal-c/menu': {'price': u'$', 'name': u'97Boloco'}, 'http://boston.menupages.com/restaurants/bella-vista/menu': {'price': u'$', 'name': u'98Boloco'}, 'http://boston.menupages.com/restaurants/blackstone-grill/menu': {'price': u'$', 'name': u'99Bon Me Truck'}, 'http://boston.menupages.com/restaurants/beneventos/menu': {'price': u'$$', 'name': u'100Bonapita'}}\n"
     ]
    }
   ],
   "source": [
    "the_data = {}\n",
    "the_names = []\n",
    "for the_place in places:\n",
    "    the_data[prefix + re.sub('.*href=\"|\"><span class.*', '', str(the_place)) + 'menu'] = {}\n",
    "    the_names.append(the_place.text)\n",
    "\n",
    "prices = []\n",
    "\n",
    "raw_prices = soup.findAll(True, {'class':['price1', 'price2', 'price3', 'price4', 'price5']})\n",
    "\n",
    "for the_price in raw_prices:\n",
    "    prices.append(the_price.text)\n",
    "\n",
    "price_index = 0    \n",
    "\n",
    "for the_restaurant in the_data:\n",
    "    the_data[the_restaurant]['price'] = prices[price_index]\n",
    "    the_data[the_restaurant]['name'] = the_names[price_index]\n",
    "    price_index += 1\n",
    "    \n",
    "print the_data\n",
    "\n",
    "    \n",
    "\n"
   ]
  },
  {
   "cell_type": "code",
   "execution_count": 94,
   "metadata": {
    "collapsed": false
   },
   "outputs": [],
   "source": [
    "foo = the_data.keys()[0]\n",
    "\n",
    "request = urllib2.Request(foo)\n",
    "request.add_header('User-agent', 'Mozilla/5.0 (Linux i686)')\n",
    "\n",
    "response = urllib2.urlopen(request)\n",
    "soup = BeautifulSoup(response.read())"
   ]
  },
  {
   "cell_type": "code",
   "execution_count": 126,
   "metadata": {
    "collapsed": false
   },
   "outputs": [
    {
     "name": "stdout",
     "output_type": "stream",
     "text": [
      "220 Northern Ave\n",
      "42.349137\n",
      "-71.039529\n"
     ]
    }
   ],
   "source": [
    "#addresses = []\n",
    "#for the_restaurant in the_data.keys()\n",
    "    \n",
    "address = soup.find(class_ = 'addr street-address')\n",
    "print address.text\n",
    "\n",
    "latitude = soup.find(class_ = 'latitude')\n",
    "print latitude.text\n",
    "\n",
    "longitude = soup.find(class_ = 'longitude')\n",
    "print longitude.text\n",
    "\n",
    "\n",
    "\n",
    "\n"
   ]
  },
  {
   "cell_type": "code",
   "execution_count": 75,
   "metadata": {
    "collapsed": false
   },
   "outputs": [],
   "source": [
    "\n",
    "# I need to add: addresses, long and lat, and price\n",
    "# Then move on to scraping the actual menus\n",
    "    "
   ]
  },
  {
   "cell_type": "raw",
   "metadata": {},
   "source": []
  },
  {
   "cell_type": "markdown",
   "metadata": {},
   "source": [
    "##### "
   ]
  },
  {
   "cell_type": "code",
   "execution_count": 54,
   "metadata": {
    "collapsed": false
   },
   "outputs": [
    {
     "data": {
      "text/plain": [
       "'<a class=\"link\" href=\"/restaurants/101-bakery/\"><span class=\"map-count\">1</span>101 Bakery</a>'"
      ]
     },
     "execution_count": 54,
     "metadata": {},
     "output_type": "execute_result"
    }
   ],
   "source": [
    "foo"
   ]
  },
  {
   "cell_type": "code",
   "execution_count": 68,
   "metadata": {
    "collapsed": false
   },
   "outputs": [
    {
     "name": "stdout",
     "output_type": "stream",
     "text": [
      "/restaurants/bailey-and-sage/\n",
      "/restaurants/75-on-liberty-wharf/\n",
      "/restaurants/au-bon-pain-terminal-b/\n",
      "/restaurants/big-guys/\n",
      "/restaurants/annas-taqueria-5/\n",
      "/restaurants/au-bon-pain-4/\n",
      "/restaurants/bgood-7/\n",
      "/restaurants/beijing-kyoto/\n",
      "/restaurants/au-bon-pain-milk-bottle/\n",
      "/restaurants/angelas-cafe/\n",
      "/restaurants/ben-jerrys-4/\n",
      "/restaurants/bennys-crepe-cafe/\n",
      "/restaurants/ames-plow-tavern/\n",
      "/restaurants/aragosta-bar-bistro/\n",
      "/restaurants/au-bon-pain-10/\n",
      "/restaurants/bogies-place/\n",
      "/restaurants/bel-ari/\n",
      "/restaurants/ben-jerrys-5/\n",
      "/restaurants/archies-place/\n",
      "/restaurants/antico-forno/\n",
      "/restaurants/anthonys-cafe/\n",
      "/restaurants/asian-house/\n",
      "/restaurants/antonios/\n",
      "/restaurants/battery-park/\n",
      "/restaurants/als-south-street-cafe/\n",
      "/restaurants/barrington-coffee/\n",
      "/restaurants/avenue-one/\n",
      "/restaurants/billy-tse-restaurant/\n",
      "/restaurants/bacco/\n",
      "/restaurants/amici/\n",
      "/restaurants/boloco-9/\n",
      "/restaurants/bonapita/\n",
      "/restaurants/aria-trattoria/\n",
      "/restaurants/black-seed-cafe-grill/\n",
      "/restaurants/artisan-bistro/\n",
      "/restaurants/alibi/\n",
      "/restaurants/back-deck-grill/\n",
      "/restaurants/ben-jerrys-6/\n",
      "/restaurants/bishops-mediterranean/\n",
      "/restaurants/boloco-7/\n",
      "/restaurants/barracuda-tavern/\n",
      "/restaurants/au-bon-pain-kiosk/\n",
      "/restaurants/barlows/\n",
      "/restaurants/archies-new-york-deli/\n",
      "/restaurants/bees-knees-supply-co/\n",
      "/restaurants/barney-fannings/\n",
      "/restaurants/blackstone-grill/\n",
      "/restaurants/blu/\n",
      "/restaurants/bijou/\n",
      "/restaurants/163-vietnamese-sandwiches/\n",
      "/restaurants/als-state-street-cafe/\n",
      "/restaurants/anthem/\n",
      "/restaurants/banh-mi-house/\n",
      "/restaurants/avana-sushi/\n",
      "/restaurants/birch-bar/\n",
      "/restaurants/biryani-park-truck/\n",
      "/restaurants/bella-vista/\n",
      "/restaurants/assaggio/\n",
      "/restaurants/atlantic-beer-garden/\n",
      "/restaurants/bean-leaf-cafe/\n",
      "/restaurants/a4-truck/\n",
      "/restaurants/au-bon-pain-25/\n",
      "/restaurants/american-bakers-cafe/\n",
      "/restaurants/bon-me-truck/\n",
      "/restaurants/al-capone/\n",
      "/restaurants/artu-2/\n",
      "/restaurants/au-bon-pain-kiosk-2/\n",
      "/restaurants/au-bon-pain-terminal-c-kiosk/\n",
      "/restaurants/blue-dragon/\n",
      "/restaurants/berkshires/\n",
      "/restaurants/biddy-earlys/\n",
      "/restaurants/blue-state-coffee-2/\n",
      "/restaurants/au-bon-pain-12/\n",
      "/restaurants/au-bon-pain-26/\n",
      "/restaurants/au-bon-pain-9/\n",
      "/restaurants/au-bon-pain-terminal-a/\n",
      "/restaurants/barking-crab/\n",
      "/restaurants/an-tain/\n",
      "/restaurants/boloco-3/\n",
      "/restaurants/101-bakery/\n",
      "/restaurants/49-social/\n",
      "/restaurants/boloco-13/\n",
      "/restaurants/au-bon-pain-27/\n",
      "/restaurants/bastille-kitchen/\n",
      "/restaurants/au-bon-pain-29/\n",
      "/restaurants/au-bon-pain-terminal-c/\n",
      "/restaurants/asian-garden-restaurant/\n",
      "/restaurants/boloco-2/\n",
      "/restaurants/beantown-hoagie/\n",
      "/restaurants/avery-provision-co/\n",
      "/restaurants/bgood-6/\n",
      "/restaurants/bangkok-express/\n",
      "/restaurants/avery-bar/\n",
      "/restaurants/boloco-8/\n",
      "/restaurants/black-rose/\n",
      "/restaurants/abby-lane/\n",
      "/restaurants/al-dente-ristorante/\n",
      "/restaurants/beneventos/\n",
      "/restaurants/bertuccis/\n",
      "/restaurants/aura/\n"
     ]
    }
   ],
   "source": [
    "for the_place in the_data:\n",
    "    print the_data[the_place]['name']\n",
    "    print "
   ]
  },
  {
   "cell_type": "code",
   "execution_count": 56,
   "metadata": {
    "collapsed": true
   },
   "outputs": [],
   "source": [
    "prefix = 'http://boston.menupages.com'\n",
    "for the_place in the_data:\n",
    "    the_data[the_place]['name'] = re.sub('.*</span>|</a>', '', str(the_place))\n"
   ]
  },
  {
   "cell_type": "code",
   "execution_count": 59,
   "metadata": {
    "collapsed": false
   },
   "outputs": [
    {
     "data": {
      "text/plain": [
       "'101 Bakery'"
      ]
     },
     "execution_count": 59,
     "metadata": {},
     "output_type": "execute_result"
    }
   ],
   "source": [
    "re.sub('.*</span>|</a>', '', str(foo))"
   ]
  },
  {
   "cell_type": "code",
   "execution_count": 60,
   "metadata": {
    "collapsed": false
   },
   "outputs": [
    {
     "name": "stdout",
     "output_type": "stream",
     "text": [
      "{'/restaurants/bailey-and-sage/': {'name': '/restaurants/bailey-and-sage/'}, '/restaurants/75-on-liberty-wharf/': {'name': '/restaurants/75-on-liberty-wharf/'}, '/restaurants/au-bon-pain-terminal-b/': {'name': '/restaurants/au-bon-pain-terminal-b/'}, '/restaurants/big-guys/': {'name': '/restaurants/big-guys/'}, '/restaurants/annas-taqueria-5/': {'name': '/restaurants/annas-taqueria-5/'}, '/restaurants/au-bon-pain-4/': {'name': '/restaurants/au-bon-pain-4/'}, '/restaurants/bgood-7/': {'name': '/restaurants/bgood-7/'}, '/restaurants/beijing-kyoto/': {'name': '/restaurants/beijing-kyoto/'}, '/restaurants/au-bon-pain-milk-bottle/': {'name': '/restaurants/au-bon-pain-milk-bottle/'}, '/restaurants/angelas-cafe/': {'name': '/restaurants/angelas-cafe/'}, '/restaurants/ben-jerrys-4/': {'name': '/restaurants/ben-jerrys-4/'}, '/restaurants/bennys-crepe-cafe/': {'name': '/restaurants/bennys-crepe-cafe/'}, '/restaurants/ames-plow-tavern/': {'name': '/restaurants/ames-plow-tavern/'}, '/restaurants/aragosta-bar-bistro/': {'name': '/restaurants/aragosta-bar-bistro/'}, '/restaurants/au-bon-pain-10/': {'name': '/restaurants/au-bon-pain-10/'}, '/restaurants/bogies-place/': {'name': '/restaurants/bogies-place/'}, '/restaurants/bel-ari/': {'name': '/restaurants/bel-ari/'}, '/restaurants/ben-jerrys-5/': {'name': '/restaurants/ben-jerrys-5/'}, '/restaurants/archies-place/': {'name': '/restaurants/archies-place/'}, '/restaurants/antico-forno/': {'name': '/restaurants/antico-forno/'}, '/restaurants/anthonys-cafe/': {'name': '/restaurants/anthonys-cafe/'}, '/restaurants/asian-house/': {'name': '/restaurants/asian-house/'}, '/restaurants/antonios/': {'name': '/restaurants/antonios/'}, '/restaurants/battery-park/': {'name': '/restaurants/battery-park/'}, '/restaurants/als-south-street-cafe/': {'name': '/restaurants/als-south-street-cafe/'}, '/restaurants/barrington-coffee/': {'name': '/restaurants/barrington-coffee/'}, '/restaurants/avenue-one/': {'name': '/restaurants/avenue-one/'}, '/restaurants/billy-tse-restaurant/': {'name': '/restaurants/billy-tse-restaurant/'}, '/restaurants/bacco/': {'name': '/restaurants/bacco/'}, '/restaurants/amici/': {'name': '/restaurants/amici/'}, '/restaurants/boloco-9/': {'name': '/restaurants/boloco-9/'}, '/restaurants/bonapita/': {'name': '/restaurants/bonapita/'}, '/restaurants/aria-trattoria/': {'name': '/restaurants/aria-trattoria/'}, '/restaurants/black-seed-cafe-grill/': {'name': '/restaurants/black-seed-cafe-grill/'}, '/restaurants/artisan-bistro/': {'name': '/restaurants/artisan-bistro/'}, '/restaurants/alibi/': {'name': '/restaurants/alibi/'}, '/restaurants/back-deck-grill/': {'name': '/restaurants/back-deck-grill/'}, '/restaurants/ben-jerrys-6/': {'name': '/restaurants/ben-jerrys-6/'}, '/restaurants/bishops-mediterranean/': {'name': '/restaurants/bishops-mediterranean/'}, '/restaurants/boloco-7/': {'name': '/restaurants/boloco-7/'}, '/restaurants/barracuda-tavern/': {'name': '/restaurants/barracuda-tavern/'}, '/restaurants/au-bon-pain-kiosk/': {'name': '/restaurants/au-bon-pain-kiosk/'}, '/restaurants/barlows/': {'name': '/restaurants/barlows/'}, '/restaurants/archies-new-york-deli/': {'name': '/restaurants/archies-new-york-deli/'}, '/restaurants/bees-knees-supply-co/': {'name': '/restaurants/bees-knees-supply-co/'}, '/restaurants/barney-fannings/': {'name': '/restaurants/barney-fannings/'}, '/restaurants/blackstone-grill/': {'name': '/restaurants/blackstone-grill/'}, '/restaurants/blu/': {'name': '/restaurants/blu/'}, '/restaurants/bijou/': {'name': '/restaurants/bijou/'}, '/restaurants/163-vietnamese-sandwiches/': {'name': '/restaurants/163-vietnamese-sandwiches/'}, '/restaurants/als-state-street-cafe/': {'name': '/restaurants/als-state-street-cafe/'}, '/restaurants/anthem/': {'name': '/restaurants/anthem/'}, '/restaurants/banh-mi-house/': {'name': '/restaurants/banh-mi-house/'}, '/restaurants/avana-sushi/': {'name': '/restaurants/avana-sushi/'}, '/restaurants/birch-bar/': {'name': '/restaurants/birch-bar/'}, '/restaurants/biryani-park-truck/': {'name': '/restaurants/biryani-park-truck/'}, '/restaurants/bella-vista/': {'name': '/restaurants/bella-vista/'}, '/restaurants/assaggio/': {'name': '/restaurants/assaggio/'}, '/restaurants/atlantic-beer-garden/': {'name': '/restaurants/atlantic-beer-garden/'}, '/restaurants/bean-leaf-cafe/': {'name': '/restaurants/bean-leaf-cafe/'}, '/restaurants/a4-truck/': {'name': '/restaurants/a4-truck/'}, '/restaurants/au-bon-pain-25/': {'name': '/restaurants/au-bon-pain-25/'}, '/restaurants/american-bakers-cafe/': {'name': '/restaurants/american-bakers-cafe/'}, '/restaurants/bon-me-truck/': {'name': '/restaurants/bon-me-truck/'}, '/restaurants/al-capone/': {'name': '/restaurants/al-capone/'}, '/restaurants/artu-2/': {'name': '/restaurants/artu-2/'}, '/restaurants/au-bon-pain-kiosk-2/': {'name': '/restaurants/au-bon-pain-kiosk-2/'}, '/restaurants/au-bon-pain-terminal-c-kiosk/': {'name': '/restaurants/au-bon-pain-terminal-c-kiosk/'}, '/restaurants/blue-dragon/': {'name': '/restaurants/blue-dragon/'}, '/restaurants/berkshires/': {'name': '/restaurants/berkshires/'}, '/restaurants/biddy-earlys/': {'name': '/restaurants/biddy-earlys/'}, '/restaurants/blue-state-coffee-2/': {'name': '/restaurants/blue-state-coffee-2/'}, '/restaurants/au-bon-pain-12/': {'name': '/restaurants/au-bon-pain-12/'}, '/restaurants/au-bon-pain-26/': {'name': '/restaurants/au-bon-pain-26/'}, '/restaurants/au-bon-pain-9/': {'name': '/restaurants/au-bon-pain-9/'}, '/restaurants/au-bon-pain-terminal-a/': {'name': '/restaurants/au-bon-pain-terminal-a/'}, '/restaurants/barking-crab/': {'name': '/restaurants/barking-crab/'}, '/restaurants/an-tain/': {'name': '/restaurants/an-tain/'}, '/restaurants/boloco-3/': {'name': '/restaurants/boloco-3/'}, '/restaurants/101-bakery/': {'name': '/restaurants/101-bakery/'}, '/restaurants/49-social/': {'name': '/restaurants/49-social/'}, '/restaurants/boloco-13/': {'name': '/restaurants/boloco-13/'}, '/restaurants/au-bon-pain-27/': {'name': '/restaurants/au-bon-pain-27/'}, '/restaurants/bastille-kitchen/': {'name': '/restaurants/bastille-kitchen/'}, '/restaurants/au-bon-pain-29/': {'name': '/restaurants/au-bon-pain-29/'}, '/restaurants/au-bon-pain-terminal-c/': {'name': '/restaurants/au-bon-pain-terminal-c/'}, '/restaurants/asian-garden-restaurant/': {'name': '/restaurants/asian-garden-restaurant/'}, '/restaurants/boloco-2/': {'name': '/restaurants/boloco-2/'}, '/restaurants/beantown-hoagie/': {'name': '/restaurants/beantown-hoagie/'}, '/restaurants/avery-provision-co/': {'name': '/restaurants/avery-provision-co/'}, '/restaurants/bgood-6/': {'name': '/restaurants/bgood-6/'}, '/restaurants/bangkok-express/': {'name': '/restaurants/bangkok-express/'}, '/restaurants/avery-bar/': {'name': '/restaurants/avery-bar/'}, '/restaurants/boloco-8/': {'name': '/restaurants/boloco-8/'}, '/restaurants/black-rose/': {'name': '/restaurants/black-rose/'}, '/restaurants/abby-lane/': {'name': '/restaurants/abby-lane/'}, '/restaurants/al-dente-ristorante/': {'name': '/restaurants/al-dente-ristorante/'}, '/restaurants/beneventos/': {'name': '/restaurants/beneventos/'}, '/restaurants/bertuccis/': {'name': '/restaurants/bertuccis/'}, '/restaurants/aura/': {'name': '/restaurants/aura/'}}\n"
     ]
    }
   ],
   "source": [
    "print the_data"
   ]
  },
  {
   "cell_type": "code",
   "execution_count": null,
   "metadata": {
    "collapsed": true
   },
   "outputs": [],
   "source": []
  }
 ],
 "metadata": {
  "kernelspec": {
   "display_name": "Python 2",
   "language": "python",
   "name": "python2"
  },
  "language_info": {
   "codemirror_mode": {
    "name": "ipython",
    "version": 2
   },
   "file_extension": ".py",
   "mimetype": "text/x-python",
   "name": "python",
   "nbconvert_exporter": "python",
   "pygments_lexer": "ipython2",
   "version": "2.7.9"
  }
 },
 "nbformat": 4,
 "nbformat_minor": 0
}
